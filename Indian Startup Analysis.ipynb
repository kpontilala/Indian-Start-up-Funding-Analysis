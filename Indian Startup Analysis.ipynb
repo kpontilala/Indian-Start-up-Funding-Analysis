{
 "cells": [
  {
   "cell_type": "markdown",
   "id": "f0855081",
   "metadata": {},
   "source": [
    "# INDIAN START-UP FUNDING ANALYSIS"
   ]
  },
  {
   "cell_type": "markdown",
   "id": "d3c72343",
   "metadata": {},
   "source": [
    "# Import the Modules\n",
    " we are going to import the necessary modules needed for the analysis of this data such pandas, numpy, matplotlib"
   ]
  },
  {
   "cell_type": "code",
   "execution_count": 1,
   "id": "b6761ba2",
   "metadata": {},
   "outputs": [],
   "source": [
    "import pandas as pd\n",
    "import numpy as np\n",
    "import matplotlib.pyplot as plt"
   ]
  },
  {
   "cell_type": "markdown",
   "id": "c5c2d765",
   "metadata": {},
   "source": [
    "# Import the CSV files\n",
    "\n",
    "in this analysis the files needed is divided across four years from 2018 - 2021, we are going to import using the pandas dataframe ranging from yearA to yearD"
   ]
  },
  {
   "cell_type": "code",
   "execution_count": 2,
   "id": "3a262a16",
   "metadata": {},
   "outputs": [],
   "source": [
    "yearA=pd.read_csv('startup_funding2018.csv')\n",
    "yearB=pd.read_csv('startup_funding2019.csv')\n",
    "yearC=pd.read_csv('startup_funding2020.csv')\n",
    "yearD=pd.read_csv('startup_funding2021.csv')"
   ]
  },
  {
   "cell_type": "markdown",
   "id": "4032164c",
   "metadata": {},
   "source": [
    "# Creating and renaming  columns\n",
    "\n",
    "we are going to create a new column which tells the year e.g yearA is going to contain a Year column of 2018 only, while yearB contains 2019 only. the essense is to make our data distnguishable when we merge all the files from the differnt years after cleaning. We are also going rename our columns form yearA to match other columns.\n",
    "columns we are using: \"Company, Founded, Sector, What it does, Founders, Investor, Amount($),Stage,HeadQuarter\""
   ]
  },
  {
   "cell_type": "code",
   "execution_count": 3,
   "id": "7b70c5e6",
   "metadata": {},
   "outputs": [],
   "source": [
    "#create the Year column \n",
    "yearA['Year'] = 2018\n",
    "yearB['Year'] = 2019\n",
    "yearC['Year'] = 2020\n",
    "yearD['Year'] = 2021"
   ]
  },
  {
   "cell_type": "code",
   "execution_count": 4,
   "id": "9b6a3586",
   "metadata": {},
   "outputs": [
    {
     "data": {
      "text/plain": [
       "Index(['Company Name', 'Industry', 'Round/Series', 'Amount', 'Location',\n",
       "       'About Company', 'Year'],\n",
       "      dtype='object')"
      ]
     },
     "execution_count": 4,
     "metadata": {},
     "output_type": "execute_result"
    }
   ],
   "source": [
    "#columns in yearA:\n",
    "yearA.keys()"
   ]
  },
  {
   "cell_type": "code",
   "execution_count": 5,
   "id": "ec289a26",
   "metadata": {},
   "outputs": [],
   "source": [
    "#Renaming the columns in yearA \n",
    "yearA.rename(columns={'Company Name':'Company/Brand', 'Industry':'Sector', 'Round/Series':'Stage', 'Amount':'Amount($)', 'Location':'HeadQuarter',\n",
    "       'About Company':'What it does'},inplace=True)"
   ]
  },
  {
   "cell_type": "code",
   "execution_count": 6,
   "id": "117a97ba",
   "metadata": {},
   "outputs": [],
   "source": [
    "yearA.rename(columns={'HeadQuarters':'HeadQuarter'},inplace=True)"
   ]
  },
  {
   "cell_type": "code",
   "execution_count": 7,
   "id": "7c9f17ab",
   "metadata": {},
   "outputs": [
    {
     "data": {
      "text/plain": [
       "Index(['Company/Brand', 'Sector', 'Stage', 'Amount($)', 'HeadQuarter',\n",
       "       'What it does', 'Year'],\n",
       "      dtype='object')"
      ]
     },
     "execution_count": 7,
     "metadata": {},
     "output_type": "execute_result"
    }
   ],
   "source": [
    "yearA.keys()"
   ]
  },
  {
   "cell_type": "code",
   "execution_count": 8,
   "id": "b8cb6901",
   "metadata": {},
   "outputs": [
    {
     "data": {
      "text/plain": [
       "Index(['Company/Brand', 'Founded', 'HeadQuarter', 'Sector', 'What it does',\n",
       "       'Founders', 'Investor', 'Amount($)', 'Stage', 'Year'],\n",
       "      dtype='object')"
      ]
     },
     "execution_count": 8,
     "metadata": {},
     "output_type": "execute_result"
    }
   ],
   "source": [
    "yearB.keys()"
   ]
  },
  {
   "cell_type": "code",
   "execution_count": 9,
   "id": "77027a49",
   "metadata": {},
   "outputs": [
    {
     "data": {
      "text/plain": [
       "Index(['Company/Brand', 'Founded', 'HeadQuarter', 'Sector', 'What it does',\n",
       "       'Founders', 'Investor', 'Amount($)', 'Stage', 'Unnamed: 9', 'Year'],\n",
       "      dtype='object')"
      ]
     },
     "execution_count": 9,
     "metadata": {},
     "output_type": "execute_result"
    }
   ],
   "source": [
    "yearC.keys()"
   ]
  },
  {
   "cell_type": "code",
   "execution_count": 10,
   "id": "9bc3c33f",
   "metadata": {},
   "outputs": [
    {
     "data": {
      "text/plain": [
       "Index(['Company/Brand', 'Founded', 'HeadQuarter', 'Sector', 'What it does',\n",
       "       'Founders', 'Investor', 'Amount($)', 'Stage', 'Year'],\n",
       "      dtype='object')"
      ]
     },
     "execution_count": 10,
     "metadata": {},
     "output_type": "execute_result"
    }
   ],
   "source": [
    "yearD.keys()"
   ]
  },
  {
   "cell_type": "code",
   "execution_count": 11,
   "id": "8c516d67",
   "metadata": {},
   "outputs": [
    {
     "data": {
      "text/plain": [
       "Pre-Seed      1\n",
       "Seed Round    1\n",
       "Name: Unnamed: 9, dtype: int64"
      ]
     },
     "execution_count": 11,
     "metadata": {},
     "output_type": "execute_result"
    }
   ],
   "source": [
    "#notice in yearC we have an 'unnamed: 9' column, so we are going to look into it to see what it entails\n",
    "yearC['Unnamed: 9'].value_counts()"
   ]
  },
  {
   "cell_type": "code",
   "execution_count": 12,
   "id": "6adab87c",
   "metadata": {},
   "outputs": [],
   "source": [
    "#so as we can see it pretty much doesn't contain anything useful, we remove it.\n",
    "yearC.drop(columns=['Unnamed: 9'], inplace=True)"
   ]
  },
  {
   "cell_type": "code",
   "execution_count": 13,
   "id": "ea12d8a1",
   "metadata": {},
   "outputs": [
    {
     "data": {
      "text/plain": [
       "Index(['Company/Brand', 'Founded', 'HeadQuarter', 'Sector', 'What it does',\n",
       "       'Founders', 'Investor', 'Amount($)', 'Stage', 'Year'],\n",
       "      dtype='object')"
      ]
     },
     "execution_count": 13,
     "metadata": {},
     "output_type": "execute_result"
    }
   ],
   "source": [
    "yearC.keys()"
   ]
  },
  {
   "cell_type": "markdown",
   "id": "74c1c17f",
   "metadata": {},
   "source": [
    "# Cleaning the Amount column\n",
    "\n",
    "The amount column have to be cleaned across all years. we have to remove the rupees sign and then convert them to dollars as the values have to be in dollars.we have to remove the commas and then replace the null and empty values with undisclosed."
   ]
  },
  {
   "cell_type": "code",
   "execution_count": 14,
   "id": "f825e5a0",
   "metadata": {},
   "outputs": [],
   "source": [
    "#remove the rupees sign and commas\n",
    "yearA['Amount($)']=yearA['Amount($)'].str.strip('₹').str.replace(',','').str.replace('—','Undisclosed')\n",
    "\n",
    "#before we convert to dollars, we will first bring out the rows already in dollars, and those undisclosed\n",
    "#then differentiate them from the full list(columns) to get our columns in rupees which we will then convert\n",
    "\n",
    "amount_with_dolls=yearA['Amount($)'][yearA['Amount($)'].str.contains('\\$')].index"
   ]
  },
  {
   "cell_type": "code",
   "execution_count": 15,
   "id": "af835a31",
   "metadata": {
    "scrolled": true
   },
   "outputs": [
    {
     "data": {
      "text/plain": [
       "4      Undisclosed\n",
       "8      Undisclosed\n",
       "9      Undisclosed\n",
       "10     Undisclosed\n",
       "11     Undisclosed\n",
       "          ...     \n",
       "510    Undisclosed\n",
       "512    Undisclosed\n",
       "515    Undisclosed\n",
       "518    Undisclosed\n",
       "522    Undisclosed\n",
       "Name: Amount($), Length: 148, dtype: object"
      ]
     },
     "execution_count": 15,
     "metadata": {},
     "output_type": "execute_result"
    }
   ],
   "source": [
    "amount_with_undisclosed=yearA['Amount($)'][yearA['Amount($)'].str.contains('Undisclosed')].index\n",
    "yearA.loc[amount_with_undisclosed]['Amount($)']"
   ]
  },
  {
   "cell_type": "code",
   "execution_count": 16,
   "id": "240575c6",
   "metadata": {
    "scrolled": true
   },
   "outputs": [
    {
     "name": "stderr",
     "output_type": "stream",
     "text": [
      "C:\\Users\\emman\\AppData\\Local\\Temp\\ipykernel_3964\\3341287915.py:4: SettingWithCopyWarning: \n",
      "A value is trying to be set on a copy of a slice from a DataFrame\n",
      "\n",
      "See the caveats in the documentation: https://pandas.pydata.org/pandas-docs/stable/user_guide/indexing.html#returning-a-view-versus-a-copy\n",
      "  yearA['Amount($)'].loc[amount_with_rupees]= yearA.loc[amount_with_rupees]['Amount($)'].astype(float)*0.013\n"
     ]
    }
   ],
   "source": [
    "amount_with_rupees=list(set(yearA.index).difference(set(amount_with_dolls).union(amount_with_undisclosed)))\n",
    "\n",
    "#converting to the ruppees to dollars using the exchange rate of 1 rupee to 0.013 dollar\n",
    "yearA['Amount($)'].loc[amount_with_rupees]= yearA.loc[amount_with_rupees]['Amount($)'].astype(float)*0.013"
   ]
  },
  {
   "cell_type": "code",
   "execution_count": 17,
   "id": "4e025886",
   "metadata": {},
   "outputs": [
    {
     "data": {
      "text/html": [
       "<div>\n",
       "<style scoped>\n",
       "    .dataframe tbody tr th:only-of-type {\n",
       "        vertical-align: middle;\n",
       "    }\n",
       "\n",
       "    .dataframe tbody tr th {\n",
       "        vertical-align: top;\n",
       "    }\n",
       "\n",
       "    .dataframe thead th {\n",
       "        text-align: right;\n",
       "    }\n",
       "</style>\n",
       "<table border=\"1\" class=\"dataframe\">\n",
       "  <thead>\n",
       "    <tr style=\"text-align: right;\">\n",
       "      <th></th>\n",
       "      <th>Company/Brand</th>\n",
       "      <th>Sector</th>\n",
       "      <th>Stage</th>\n",
       "      <th>Amount($)</th>\n",
       "      <th>HeadQuarter</th>\n",
       "      <th>What it does</th>\n",
       "      <th>Year</th>\n",
       "    </tr>\n",
       "  </thead>\n",
       "  <tbody>\n",
       "    <tr>\n",
       "      <th>0</th>\n",
       "      <td>TheCollegeFever</td>\n",
       "      <td>Brand Marketing, Event Promotion, Marketing, S...</td>\n",
       "      <td>Seed</td>\n",
       "      <td>3250.0</td>\n",
       "      <td>Bangalore, Karnataka, India</td>\n",
       "      <td>TheCollegeFever is a hub for fun, fiesta and f...</td>\n",
       "      <td>2018</td>\n",
       "    </tr>\n",
       "    <tr>\n",
       "      <th>1</th>\n",
       "      <td>Happy Cow Dairy</td>\n",
       "      <td>Agriculture, Farming</td>\n",
       "      <td>Seed</td>\n",
       "      <td>520000.0</td>\n",
       "      <td>Mumbai, Maharashtra, India</td>\n",
       "      <td>A startup which aggregates milk from dairy far...</td>\n",
       "      <td>2018</td>\n",
       "    </tr>\n",
       "    <tr>\n",
       "      <th>2</th>\n",
       "      <td>MyLoanCare</td>\n",
       "      <td>Credit, Financial Services, Lending, Marketplace</td>\n",
       "      <td>Series A</td>\n",
       "      <td>845000.0</td>\n",
       "      <td>Gurgaon, Haryana, India</td>\n",
       "      <td>Leading Online Loans Marketplace in India</td>\n",
       "      <td>2018</td>\n",
       "    </tr>\n",
       "    <tr>\n",
       "      <th>3</th>\n",
       "      <td>PayMe India</td>\n",
       "      <td>Financial Services, FinTech</td>\n",
       "      <td>Angel</td>\n",
       "      <td>26000.0</td>\n",
       "      <td>Noida, Uttar Pradesh, India</td>\n",
       "      <td>PayMe India is an innovative FinTech organizat...</td>\n",
       "      <td>2018</td>\n",
       "    </tr>\n",
       "    <tr>\n",
       "      <th>4</th>\n",
       "      <td>Eunimart</td>\n",
       "      <td>E-Commerce Platforms, Retail, SaaS</td>\n",
       "      <td>Seed</td>\n",
       "      <td>Undisclosed</td>\n",
       "      <td>Hyderabad, Andhra Pradesh, India</td>\n",
       "      <td>Eunimart is a one stop solution for merchants ...</td>\n",
       "      <td>2018</td>\n",
       "    </tr>\n",
       "    <tr>\n",
       "      <th>...</th>\n",
       "      <td>...</td>\n",
       "      <td>...</td>\n",
       "      <td>...</td>\n",
       "      <td>...</td>\n",
       "      <td>...</td>\n",
       "      <td>...</td>\n",
       "      <td>...</td>\n",
       "    </tr>\n",
       "    <tr>\n",
       "      <th>521</th>\n",
       "      <td>Udaan</td>\n",
       "      <td>B2B, Business Development, Internet, Marketplace</td>\n",
       "      <td>Series C</td>\n",
       "      <td>2925000.0</td>\n",
       "      <td>Bangalore, Karnataka, India</td>\n",
       "      <td>Udaan is a B2B trade platform, designed specif...</td>\n",
       "      <td>2018</td>\n",
       "    </tr>\n",
       "    <tr>\n",
       "      <th>522</th>\n",
       "      <td>Happyeasygo Group</td>\n",
       "      <td>Tourism, Travel</td>\n",
       "      <td>Series A</td>\n",
       "      <td>Undisclosed</td>\n",
       "      <td>Haryana, Haryana, India</td>\n",
       "      <td>HappyEasyGo is an online travel domain.</td>\n",
       "      <td>2018</td>\n",
       "    </tr>\n",
       "    <tr>\n",
       "      <th>523</th>\n",
       "      <td>Mombay</td>\n",
       "      <td>Food and Beverage, Food Delivery, Internet</td>\n",
       "      <td>Seed</td>\n",
       "      <td>97.5</td>\n",
       "      <td>Mumbai, Maharashtra, India</td>\n",
       "      <td>Mombay is a unique opportunity for housewives ...</td>\n",
       "      <td>2018</td>\n",
       "    </tr>\n",
       "    <tr>\n",
       "      <th>524</th>\n",
       "      <td>Droni Tech</td>\n",
       "      <td>Information Technology</td>\n",
       "      <td>Seed</td>\n",
       "      <td>455000.0</td>\n",
       "      <td>Mumbai, Maharashtra, India</td>\n",
       "      <td>Droni Tech manufacture UAVs and develop softwa...</td>\n",
       "      <td>2018</td>\n",
       "    </tr>\n",
       "    <tr>\n",
       "      <th>525</th>\n",
       "      <td>Netmeds</td>\n",
       "      <td>Biotechnology, Health Care, Pharmaceutical</td>\n",
       "      <td>Series C</td>\n",
       "      <td>455000.0</td>\n",
       "      <td>Chennai, Tamil Nadu, India</td>\n",
       "      <td>Welcome to India's most convenient pharmacy!</td>\n",
       "      <td>2018</td>\n",
       "    </tr>\n",
       "  </tbody>\n",
       "</table>\n",
       "<p>526 rows × 7 columns</p>\n",
       "</div>"
      ],
      "text/plain": [
       "         Company/Brand                                             Sector  \\\n",
       "0      TheCollegeFever  Brand Marketing, Event Promotion, Marketing, S...   \n",
       "1      Happy Cow Dairy                               Agriculture, Farming   \n",
       "2           MyLoanCare   Credit, Financial Services, Lending, Marketplace   \n",
       "3          PayMe India                        Financial Services, FinTech   \n",
       "4             Eunimart                 E-Commerce Platforms, Retail, SaaS   \n",
       "..                 ...                                                ...   \n",
       "521              Udaan   B2B, Business Development, Internet, Marketplace   \n",
       "522  Happyeasygo Group                                    Tourism, Travel   \n",
       "523             Mombay         Food and Beverage, Food Delivery, Internet   \n",
       "524         Droni Tech                             Information Technology   \n",
       "525            Netmeds         Biotechnology, Health Care, Pharmaceutical   \n",
       "\n",
       "        Stage    Amount($)                       HeadQuarter  \\\n",
       "0        Seed       3250.0       Bangalore, Karnataka, India   \n",
       "1        Seed     520000.0        Mumbai, Maharashtra, India   \n",
       "2    Series A     845000.0           Gurgaon, Haryana, India   \n",
       "3       Angel      26000.0       Noida, Uttar Pradesh, India   \n",
       "4        Seed  Undisclosed  Hyderabad, Andhra Pradesh, India   \n",
       "..        ...          ...                               ...   \n",
       "521  Series C    2925000.0       Bangalore, Karnataka, India   \n",
       "522  Series A  Undisclosed           Haryana, Haryana, India   \n",
       "523      Seed         97.5        Mumbai, Maharashtra, India   \n",
       "524      Seed     455000.0        Mumbai, Maharashtra, India   \n",
       "525  Series C     455000.0        Chennai, Tamil Nadu, India   \n",
       "\n",
       "                                          What it does  Year  \n",
       "0    TheCollegeFever is a hub for fun, fiesta and f...  2018  \n",
       "1    A startup which aggregates milk from dairy far...  2018  \n",
       "2            Leading Online Loans Marketplace in India  2018  \n",
       "3    PayMe India is an innovative FinTech organizat...  2018  \n",
       "4    Eunimart is a one stop solution for merchants ...  2018  \n",
       "..                                                 ...   ...  \n",
       "521  Udaan is a B2B trade platform, designed specif...  2018  \n",
       "522            HappyEasyGo is an online travel domain.  2018  \n",
       "523  Mombay is a unique opportunity for housewives ...  2018  \n",
       "524  Droni Tech manufacture UAVs and develop softwa...  2018  \n",
       "525       Welcome to India's most convenient pharmacy!  2018  \n",
       "\n",
       "[526 rows x 7 columns]"
      ]
     },
     "execution_count": 17,
     "metadata": {},
     "output_type": "execute_result"
    }
   ],
   "source": [
    "yearA"
   ]
  },
  {
   "cell_type": "code",
   "execution_count": 18,
   "id": "aec354ed",
   "metadata": {},
   "outputs": [
    {
     "name": "stderr",
     "output_type": "stream",
     "text": [
      "C:\\Users\\emman\\AppData\\Local\\Temp\\ipykernel_3964\\3295270219.py:2: SettingWithCopyWarning: \n",
      "A value is trying to be set on a copy of a slice from a DataFrame\n",
      "\n",
      "See the caveats in the documentation: https://pandas.pydata.org/pandas-docs/stable/user_guide/indexing.html#returning-a-view-versus-a-copy\n",
      "  yearA['Amount($)'].loc[amount_with_dolls] = yearA.loc[amount_with_dolls]['Amount($)'].str.strip('$')\n"
     ]
    }
   ],
   "source": [
    "# Removing the dollar sign \n",
    "yearA['Amount($)'].loc[amount_with_dolls] = yearA.loc[amount_with_dolls]['Amount($)'].str.strip('$')"
   ]
  },
  {
   "cell_type": "code",
   "execution_count": 19,
   "id": "30f894d7",
   "metadata": {},
   "outputs": [],
   "source": [
    "#removing the dollar sign and the comma seperator in amount from other years\n",
    "\n",
    "yearB['Amount($)']=yearB['Amount($)'].str.strip('$').str.replace(',','')\n",
    "yearC['Amount($)']=yearC['Amount($)'].str.strip('$').str.replace(',','')\n",
    "yearD['Amount($)']=yearD['Amount($)'].str.strip('$').str.replace(',','')"
   ]
  },
  {
   "cell_type": "code",
   "execution_count": 20,
   "id": "bfae4f8f",
   "metadata": {},
   "outputs": [],
   "source": [
    "cols = 'Company/Brand, Founded, HeadQuarter, Sector, What it does, Founders, Investor, Amount($), Stage'.split(', ') + ['Year']"
   ]
  },
  {
   "cell_type": "code",
   "execution_count": 21,
   "id": "2883df7a",
   "metadata": {},
   "outputs": [],
   "source": [
    "# Merging all the datasets\n",
    "all_data = pd.concat([yearA, yearB[cols]])\n",
    "all_data = pd.concat([all_data, yearC[cols]])\n",
    "all_data = pd.concat([all_data, yearD[cols]])"
   ]
  },
  {
   "cell_type": "code",
   "execution_count": 22,
   "id": "c7023e5b",
   "metadata": {},
   "outputs": [],
   "source": [
    "#resetting the index\n",
    "all_data.reset_index(drop=True, inplace=True)"
   ]
  },
  {
   "cell_type": "code",
   "execution_count": 23,
   "id": "a70ae644",
   "metadata": {},
   "outputs": [
    {
     "data": {
      "text/plain": [
       "2020    243\n",
       "2018    148\n",
       "2021    116\n",
       "2019     12\n",
       "Name: Year, dtype: int64"
      ]
     },
     "execution_count": 23,
     "metadata": {},
     "output_type": "execute_result"
    }
   ],
   "source": [
    "#number of undisclosed funding per year\n",
    "all_data[all_data['Amount($)'] == 'Undisclosed']['Year'].value_counts()"
   ]
  },
  {
   "cell_type": "code",
   "execution_count": 24,
   "id": "bd8b43ba",
   "metadata": {},
   "outputs": [
    {
     "data": {
      "text/plain": [
       "Company/Brand    object\n",
       "Sector           object\n",
       "Stage            object\n",
       "Amount($)        object\n",
       "HeadQuarter      object\n",
       "What it does     object\n",
       "Year              int64\n",
       "Founded          object\n",
       "Founders         object\n",
       "Investor         object\n",
       "dtype: object"
      ]
     },
     "execution_count": 24,
     "metadata": {},
     "output_type": "execute_result"
    }
   ],
   "source": [
    "all_data.dtypes"
   ]
  },
  {
   "cell_type": "code",
   "execution_count": 25,
   "id": "70789aa1",
   "metadata": {},
   "outputs": [],
   "source": [
    "all_data['Amount($)']=all_data['Amount($)'].replace('Undiclsosed','Undisclosed').replace('Undislosed','Undisclosed').replace('undisclosed','Undisclosed')\n",
    "\n"
   ]
  },
  {
   "cell_type": "code",
   "execution_count": 26,
   "id": "7ae3a0b9",
   "metadata": {},
   "outputs": [
    {
     "data": {
      "text/plain": [
       "0           3250.0\n",
       "1         520000.0\n",
       "2         845000.0\n",
       "3          26000.0\n",
       "5          20800.0\n",
       "           ...    \n",
       "2874     3000000.0\n",
       "2875    20000000.0\n",
       "2876    55000000.0\n",
       "2877    26000000.0\n",
       "2878     8000000.0\n",
       "Name: Amount($), Length: 2321, dtype: float64"
      ]
     },
     "execution_count": 26,
     "metadata": {},
     "output_type": "execute_result"
    }
   ],
   "source": [
    "#Dropping wrong rows in the amount column\n",
    "#all_data[all_data['Amount($)']=='800000000 to $850000000']\n",
    "all_data.drop([1080,2816,1768,1781,1912,1926,2215], inplace=True)\n",
    "all_data.drop([1927,2828], inplace=True)\n",
    "all_data.drop(2208, inplace=True)\n",
    "all_data.drop([2221,2347], inplace=True)\n",
    "all_data.drop(2807, inplace=True)\n",
    "all_data.drop(2818, inplace=True)\n",
    "all_data.drop(1087, inplace=True)\n",
    "\n",
    "\n",
    "#Disclosed funding: Amount that are not undisclosed, convert them float\n",
    "disclosed_funding=all_data[all_data['Amount($)']!='Undisclosed']\n",
    "disclosed_funding['Amount($)'].astype(float)"
   ]
  },
  {
   "cell_type": "code",
   "execution_count": 27,
   "id": "5e51ce6a",
   "metadata": {},
   "outputs": [
    {
     "data": {
      "text/html": [
       "<div>\n",
       "<style scoped>\n",
       "    .dataframe tbody tr th:only-of-type {\n",
       "        vertical-align: middle;\n",
       "    }\n",
       "\n",
       "    .dataframe tbody tr th {\n",
       "        vertical-align: top;\n",
       "    }\n",
       "\n",
       "    .dataframe thead th {\n",
       "        text-align: right;\n",
       "    }\n",
       "</style>\n",
       "<table border=\"1\" class=\"dataframe\">\n",
       "  <thead>\n",
       "    <tr style=\"text-align: right;\">\n",
       "      <th></th>\n",
       "      <th>Company/Brand</th>\n",
       "      <th>Sector</th>\n",
       "      <th>Stage</th>\n",
       "      <th>Amount($)</th>\n",
       "      <th>HeadQuarter</th>\n",
       "      <th>What it does</th>\n",
       "      <th>Year</th>\n",
       "      <th>Founded</th>\n",
       "      <th>Founders</th>\n",
       "      <th>Investor</th>\n",
       "    </tr>\n",
       "  </thead>\n",
       "  <tbody>\n",
       "    <tr>\n",
       "      <th>0</th>\n",
       "      <td>TheCollegeFever</td>\n",
       "      <td>Brand Marketing, Event Promotion, Marketing, S...</td>\n",
       "      <td>Seed</td>\n",
       "      <td>3250.0</td>\n",
       "      <td>Bangalore, Karnataka, India</td>\n",
       "      <td>TheCollegeFever is a hub for fun, fiesta and f...</td>\n",
       "      <td>2018</td>\n",
       "      <td>NaN</td>\n",
       "      <td>NaN</td>\n",
       "      <td>NaN</td>\n",
       "    </tr>\n",
       "    <tr>\n",
       "      <th>1</th>\n",
       "      <td>Happy Cow Dairy</td>\n",
       "      <td>Agriculture, Farming</td>\n",
       "      <td>Seed</td>\n",
       "      <td>520000.0</td>\n",
       "      <td>Mumbai, Maharashtra, India</td>\n",
       "      <td>A startup which aggregates milk from dairy far...</td>\n",
       "      <td>2018</td>\n",
       "      <td>NaN</td>\n",
       "      <td>NaN</td>\n",
       "      <td>NaN</td>\n",
       "    </tr>\n",
       "    <tr>\n",
       "      <th>2</th>\n",
       "      <td>MyLoanCare</td>\n",
       "      <td>Credit, Financial Services, Lending, Marketplace</td>\n",
       "      <td>Series A</td>\n",
       "      <td>845000.0</td>\n",
       "      <td>Gurgaon, Haryana, India</td>\n",
       "      <td>Leading Online Loans Marketplace in India</td>\n",
       "      <td>2018</td>\n",
       "      <td>NaN</td>\n",
       "      <td>NaN</td>\n",
       "      <td>NaN</td>\n",
       "    </tr>\n",
       "    <tr>\n",
       "      <th>3</th>\n",
       "      <td>PayMe India</td>\n",
       "      <td>Financial Services, FinTech</td>\n",
       "      <td>Angel</td>\n",
       "      <td>26000.0</td>\n",
       "      <td>Noida, Uttar Pradesh, India</td>\n",
       "      <td>PayMe India is an innovative FinTech organizat...</td>\n",
       "      <td>2018</td>\n",
       "      <td>NaN</td>\n",
       "      <td>NaN</td>\n",
       "      <td>NaN</td>\n",
       "    </tr>\n",
       "    <tr>\n",
       "      <th>4</th>\n",
       "      <td>Eunimart</td>\n",
       "      <td>E-Commerce Platforms, Retail, SaaS</td>\n",
       "      <td>Seed</td>\n",
       "      <td>Undisclosed</td>\n",
       "      <td>Hyderabad, Andhra Pradesh, India</td>\n",
       "      <td>Eunimart is a one stop solution for merchants ...</td>\n",
       "      <td>2018</td>\n",
       "      <td>NaN</td>\n",
       "      <td>NaN</td>\n",
       "      <td>NaN</td>\n",
       "    </tr>\n",
       "    <tr>\n",
       "      <th>...</th>\n",
       "      <td>...</td>\n",
       "      <td>...</td>\n",
       "      <td>...</td>\n",
       "      <td>...</td>\n",
       "      <td>...</td>\n",
       "      <td>...</td>\n",
       "      <td>...</td>\n",
       "      <td>...</td>\n",
       "      <td>...</td>\n",
       "      <td>...</td>\n",
       "    </tr>\n",
       "    <tr>\n",
       "      <th>2874</th>\n",
       "      <td>Gigforce</td>\n",
       "      <td>Staffing &amp; Recruiting</td>\n",
       "      <td>Pre-series A</td>\n",
       "      <td>3000000</td>\n",
       "      <td>Gurugram</td>\n",
       "      <td>A gig/on-demand staffing company.</td>\n",
       "      <td>2021</td>\n",
       "      <td>2019.0</td>\n",
       "      <td>Chirag Mittal, Anirudh Syal</td>\n",
       "      <td>Endiya Partners</td>\n",
       "    </tr>\n",
       "    <tr>\n",
       "      <th>2875</th>\n",
       "      <td>Vahdam</td>\n",
       "      <td>Food &amp; Beverages</td>\n",
       "      <td>Series D</td>\n",
       "      <td>20000000</td>\n",
       "      <td>New Delhi</td>\n",
       "      <td>VAHDAM is among the world’s first vertically i...</td>\n",
       "      <td>2021</td>\n",
       "      <td>2015.0</td>\n",
       "      <td>Bala Sarda</td>\n",
       "      <td>IIFL AMC</td>\n",
       "    </tr>\n",
       "    <tr>\n",
       "      <th>2876</th>\n",
       "      <td>Leap Finance</td>\n",
       "      <td>Financial Services</td>\n",
       "      <td>Series C</td>\n",
       "      <td>55000000</td>\n",
       "      <td>Bangalore</td>\n",
       "      <td>International education loans for high potenti...</td>\n",
       "      <td>2021</td>\n",
       "      <td>2019.0</td>\n",
       "      <td>Arnav Kumar, Vaibhav Singh</td>\n",
       "      <td>Owl Ventures</td>\n",
       "    </tr>\n",
       "    <tr>\n",
       "      <th>2877</th>\n",
       "      <td>CollegeDekho</td>\n",
       "      <td>EdTech</td>\n",
       "      <td>Series B</td>\n",
       "      <td>26000000</td>\n",
       "      <td>Gurugram</td>\n",
       "      <td>Collegedekho.com is Student’s Partner, Friend ...</td>\n",
       "      <td>2021</td>\n",
       "      <td>2015.0</td>\n",
       "      <td>Ruchir Arora</td>\n",
       "      <td>Winter Capital, ETS, Man Capital</td>\n",
       "    </tr>\n",
       "    <tr>\n",
       "      <th>2878</th>\n",
       "      <td>WeRize</td>\n",
       "      <td>Financial Services</td>\n",
       "      <td>Series A</td>\n",
       "      <td>8000000</td>\n",
       "      <td>Bangalore</td>\n",
       "      <td>India’s first socially distributed full stack ...</td>\n",
       "      <td>2021</td>\n",
       "      <td>2019.0</td>\n",
       "      <td>Vishal Chopra, Himanshu Gupta</td>\n",
       "      <td>3one4 Capital, Kalaari Capital</td>\n",
       "    </tr>\n",
       "  </tbody>\n",
       "</table>\n",
       "<p>2864 rows × 10 columns</p>\n",
       "</div>"
      ],
      "text/plain": [
       "        Company/Brand                                             Sector  \\\n",
       "0     TheCollegeFever  Brand Marketing, Event Promotion, Marketing, S...   \n",
       "1     Happy Cow Dairy                               Agriculture, Farming   \n",
       "2          MyLoanCare   Credit, Financial Services, Lending, Marketplace   \n",
       "3         PayMe India                        Financial Services, FinTech   \n",
       "4            Eunimart                 E-Commerce Platforms, Retail, SaaS   \n",
       "...               ...                                                ...   \n",
       "2874         Gigforce                              Staffing & Recruiting   \n",
       "2875           Vahdam                                   Food & Beverages   \n",
       "2876     Leap Finance                                 Financial Services   \n",
       "2877     CollegeDekho                                             EdTech   \n",
       "2878           WeRize                                 Financial Services   \n",
       "\n",
       "             Stage    Amount($)                       HeadQuarter  \\\n",
       "0             Seed       3250.0       Bangalore, Karnataka, India   \n",
       "1             Seed     520000.0        Mumbai, Maharashtra, India   \n",
       "2         Series A     845000.0           Gurgaon, Haryana, India   \n",
       "3            Angel      26000.0       Noida, Uttar Pradesh, India   \n",
       "4             Seed  Undisclosed  Hyderabad, Andhra Pradesh, India   \n",
       "...            ...          ...                               ...   \n",
       "2874  Pre-series A      3000000                          Gurugram   \n",
       "2875      Series D     20000000                         New Delhi   \n",
       "2876      Series C     55000000                         Bangalore   \n",
       "2877      Series B     26000000                          Gurugram   \n",
       "2878      Series A      8000000                         Bangalore   \n",
       "\n",
       "                                           What it does  Year Founded  \\\n",
       "0     TheCollegeFever is a hub for fun, fiesta and f...  2018     NaN   \n",
       "1     A startup which aggregates milk from dairy far...  2018     NaN   \n",
       "2             Leading Online Loans Marketplace in India  2018     NaN   \n",
       "3     PayMe India is an innovative FinTech organizat...  2018     NaN   \n",
       "4     Eunimart is a one stop solution for merchants ...  2018     NaN   \n",
       "...                                                 ...   ...     ...   \n",
       "2874                  A gig/on-demand staffing company.  2021  2019.0   \n",
       "2875  VAHDAM is among the world’s first vertically i...  2021  2015.0   \n",
       "2876  International education loans for high potenti...  2021  2019.0   \n",
       "2877  Collegedekho.com is Student’s Partner, Friend ...  2021  2015.0   \n",
       "2878  India’s first socially distributed full stack ...  2021  2019.0   \n",
       "\n",
       "                           Founders                          Investor  \n",
       "0                               NaN                               NaN  \n",
       "1                               NaN                               NaN  \n",
       "2                               NaN                               NaN  \n",
       "3                               NaN                               NaN  \n",
       "4                               NaN                               NaN  \n",
       "...                             ...                               ...  \n",
       "2874    Chirag Mittal, Anirudh Syal                   Endiya Partners  \n",
       "2875                     Bala Sarda                          IIFL AMC  \n",
       "2876     Arnav Kumar, Vaibhav Singh                      Owl Ventures  \n",
       "2877                   Ruchir Arora  Winter Capital, ETS, Man Capital  \n",
       "2878  Vishal Chopra, Himanshu Gupta    3one4 Capital, Kalaari Capital  \n",
       "\n",
       "[2864 rows x 10 columns]"
      ]
     },
     "execution_count": 27,
     "metadata": {},
     "output_type": "execute_result"
    }
   ],
   "source": [
    "all_data"
   ]
  },
  {
   "cell_type": "code",
   "execution_count": 28,
   "id": "d30cd833",
   "metadata": {},
   "outputs": [],
   "source": [
    "#splitting the sector to two seperate columns\n",
    "all_data[['Sector', 'Subsector']] = all_data['Sector'].str.split(',',1,expand=True)"
   ]
  },
  {
   "cell_type": "code",
   "execution_count": 29,
   "id": "4434f27f",
   "metadata": {},
   "outputs": [
    {
     "data": {
      "text/html": [
       "<div>\n",
       "<style scoped>\n",
       "    .dataframe tbody tr th:only-of-type {\n",
       "        vertical-align: middle;\n",
       "    }\n",
       "\n",
       "    .dataframe tbody tr th {\n",
       "        vertical-align: top;\n",
       "    }\n",
       "\n",
       "    .dataframe thead th {\n",
       "        text-align: right;\n",
       "    }\n",
       "</style>\n",
       "<table border=\"1\" class=\"dataframe\">\n",
       "  <thead>\n",
       "    <tr style=\"text-align: right;\">\n",
       "      <th></th>\n",
       "      <th>Company/Brand</th>\n",
       "      <th>Sector</th>\n",
       "      <th>Stage</th>\n",
       "      <th>Amount($)</th>\n",
       "      <th>HeadQuarter</th>\n",
       "      <th>What it does</th>\n",
       "      <th>Year</th>\n",
       "      <th>Founded</th>\n",
       "      <th>Founders</th>\n",
       "      <th>Investor</th>\n",
       "      <th>Subsector</th>\n",
       "    </tr>\n",
       "  </thead>\n",
       "  <tbody>\n",
       "    <tr>\n",
       "      <th>0</th>\n",
       "      <td>TheCollegeFever</td>\n",
       "      <td>Brand Marketing</td>\n",
       "      <td>Seed</td>\n",
       "      <td>3250.0</td>\n",
       "      <td>Bangalore, Karnataka, India</td>\n",
       "      <td>TheCollegeFever is a hub for fun, fiesta and f...</td>\n",
       "      <td>2018</td>\n",
       "      <td>NaN</td>\n",
       "      <td>NaN</td>\n",
       "      <td>NaN</td>\n",
       "      <td>Event Promotion, Marketing, Sponsorship, Tick...</td>\n",
       "    </tr>\n",
       "    <tr>\n",
       "      <th>1</th>\n",
       "      <td>Happy Cow Dairy</td>\n",
       "      <td>Agriculture</td>\n",
       "      <td>Seed</td>\n",
       "      <td>520000.0</td>\n",
       "      <td>Mumbai, Maharashtra, India</td>\n",
       "      <td>A startup which aggregates milk from dairy far...</td>\n",
       "      <td>2018</td>\n",
       "      <td>NaN</td>\n",
       "      <td>NaN</td>\n",
       "      <td>NaN</td>\n",
       "      <td>Farming</td>\n",
       "    </tr>\n",
       "    <tr>\n",
       "      <th>2</th>\n",
       "      <td>MyLoanCare</td>\n",
       "      <td>Credit</td>\n",
       "      <td>Series A</td>\n",
       "      <td>845000.0</td>\n",
       "      <td>Gurgaon, Haryana, India</td>\n",
       "      <td>Leading Online Loans Marketplace in India</td>\n",
       "      <td>2018</td>\n",
       "      <td>NaN</td>\n",
       "      <td>NaN</td>\n",
       "      <td>NaN</td>\n",
       "      <td>Financial Services, Lending, Marketplace</td>\n",
       "    </tr>\n",
       "    <tr>\n",
       "      <th>3</th>\n",
       "      <td>PayMe India</td>\n",
       "      <td>Financial Services</td>\n",
       "      <td>Angel</td>\n",
       "      <td>26000.0</td>\n",
       "      <td>Noida, Uttar Pradesh, India</td>\n",
       "      <td>PayMe India is an innovative FinTech organizat...</td>\n",
       "      <td>2018</td>\n",
       "      <td>NaN</td>\n",
       "      <td>NaN</td>\n",
       "      <td>NaN</td>\n",
       "      <td>FinTech</td>\n",
       "    </tr>\n",
       "    <tr>\n",
       "      <th>4</th>\n",
       "      <td>Eunimart</td>\n",
       "      <td>E-Commerce Platforms</td>\n",
       "      <td>Seed</td>\n",
       "      <td>Undisclosed</td>\n",
       "      <td>Hyderabad, Andhra Pradesh, India</td>\n",
       "      <td>Eunimart is a one stop solution for merchants ...</td>\n",
       "      <td>2018</td>\n",
       "      <td>NaN</td>\n",
       "      <td>NaN</td>\n",
       "      <td>NaN</td>\n",
       "      <td>Retail, SaaS</td>\n",
       "    </tr>\n",
       "    <tr>\n",
       "      <th>...</th>\n",
       "      <td>...</td>\n",
       "      <td>...</td>\n",
       "      <td>...</td>\n",
       "      <td>...</td>\n",
       "      <td>...</td>\n",
       "      <td>...</td>\n",
       "      <td>...</td>\n",
       "      <td>...</td>\n",
       "      <td>...</td>\n",
       "      <td>...</td>\n",
       "      <td>...</td>\n",
       "    </tr>\n",
       "    <tr>\n",
       "      <th>2874</th>\n",
       "      <td>Gigforce</td>\n",
       "      <td>Staffing &amp; Recruiting</td>\n",
       "      <td>Pre-series A</td>\n",
       "      <td>3000000</td>\n",
       "      <td>Gurugram</td>\n",
       "      <td>A gig/on-demand staffing company.</td>\n",
       "      <td>2021</td>\n",
       "      <td>2019.0</td>\n",
       "      <td>Chirag Mittal, Anirudh Syal</td>\n",
       "      <td>Endiya Partners</td>\n",
       "      <td>None</td>\n",
       "    </tr>\n",
       "    <tr>\n",
       "      <th>2875</th>\n",
       "      <td>Vahdam</td>\n",
       "      <td>Food &amp; Beverages</td>\n",
       "      <td>Series D</td>\n",
       "      <td>20000000</td>\n",
       "      <td>New Delhi</td>\n",
       "      <td>VAHDAM is among the world’s first vertically i...</td>\n",
       "      <td>2021</td>\n",
       "      <td>2015.0</td>\n",
       "      <td>Bala Sarda</td>\n",
       "      <td>IIFL AMC</td>\n",
       "      <td>None</td>\n",
       "    </tr>\n",
       "    <tr>\n",
       "      <th>2876</th>\n",
       "      <td>Leap Finance</td>\n",
       "      <td>Financial Services</td>\n",
       "      <td>Series C</td>\n",
       "      <td>55000000</td>\n",
       "      <td>Bangalore</td>\n",
       "      <td>International education loans for high potenti...</td>\n",
       "      <td>2021</td>\n",
       "      <td>2019.0</td>\n",
       "      <td>Arnav Kumar, Vaibhav Singh</td>\n",
       "      <td>Owl Ventures</td>\n",
       "      <td>None</td>\n",
       "    </tr>\n",
       "    <tr>\n",
       "      <th>2877</th>\n",
       "      <td>CollegeDekho</td>\n",
       "      <td>EdTech</td>\n",
       "      <td>Series B</td>\n",
       "      <td>26000000</td>\n",
       "      <td>Gurugram</td>\n",
       "      <td>Collegedekho.com is Student’s Partner, Friend ...</td>\n",
       "      <td>2021</td>\n",
       "      <td>2015.0</td>\n",
       "      <td>Ruchir Arora</td>\n",
       "      <td>Winter Capital, ETS, Man Capital</td>\n",
       "      <td>None</td>\n",
       "    </tr>\n",
       "    <tr>\n",
       "      <th>2878</th>\n",
       "      <td>WeRize</td>\n",
       "      <td>Financial Services</td>\n",
       "      <td>Series A</td>\n",
       "      <td>8000000</td>\n",
       "      <td>Bangalore</td>\n",
       "      <td>India’s first socially distributed full stack ...</td>\n",
       "      <td>2021</td>\n",
       "      <td>2019.0</td>\n",
       "      <td>Vishal Chopra, Himanshu Gupta</td>\n",
       "      <td>3one4 Capital, Kalaari Capital</td>\n",
       "      <td>None</td>\n",
       "    </tr>\n",
       "  </tbody>\n",
       "</table>\n",
       "<p>2864 rows × 11 columns</p>\n",
       "</div>"
      ],
      "text/plain": [
       "        Company/Brand                 Sector         Stage    Amount($)  \\\n",
       "0     TheCollegeFever        Brand Marketing          Seed       3250.0   \n",
       "1     Happy Cow Dairy            Agriculture          Seed     520000.0   \n",
       "2          MyLoanCare                 Credit      Series A     845000.0   \n",
       "3         PayMe India     Financial Services         Angel      26000.0   \n",
       "4            Eunimart   E-Commerce Platforms          Seed  Undisclosed   \n",
       "...               ...                    ...           ...          ...   \n",
       "2874         Gigforce  Staffing & Recruiting  Pre-series A      3000000   \n",
       "2875           Vahdam       Food & Beverages      Series D     20000000   \n",
       "2876     Leap Finance     Financial Services      Series C     55000000   \n",
       "2877     CollegeDekho                 EdTech      Series B     26000000   \n",
       "2878           WeRize     Financial Services      Series A      8000000   \n",
       "\n",
       "                           HeadQuarter  \\\n",
       "0          Bangalore, Karnataka, India   \n",
       "1           Mumbai, Maharashtra, India   \n",
       "2              Gurgaon, Haryana, India   \n",
       "3          Noida, Uttar Pradesh, India   \n",
       "4     Hyderabad, Andhra Pradesh, India   \n",
       "...                                ...   \n",
       "2874                          Gurugram   \n",
       "2875                         New Delhi   \n",
       "2876                         Bangalore   \n",
       "2877                          Gurugram   \n",
       "2878                         Bangalore   \n",
       "\n",
       "                                           What it does  Year Founded  \\\n",
       "0     TheCollegeFever is a hub for fun, fiesta and f...  2018     NaN   \n",
       "1     A startup which aggregates milk from dairy far...  2018     NaN   \n",
       "2             Leading Online Loans Marketplace in India  2018     NaN   \n",
       "3     PayMe India is an innovative FinTech organizat...  2018     NaN   \n",
       "4     Eunimart is a one stop solution for merchants ...  2018     NaN   \n",
       "...                                                 ...   ...     ...   \n",
       "2874                  A gig/on-demand staffing company.  2021  2019.0   \n",
       "2875  VAHDAM is among the world’s first vertically i...  2021  2015.0   \n",
       "2876  International education loans for high potenti...  2021  2019.0   \n",
       "2877  Collegedekho.com is Student’s Partner, Friend ...  2021  2015.0   \n",
       "2878  India’s first socially distributed full stack ...  2021  2019.0   \n",
       "\n",
       "                           Founders                          Investor  \\\n",
       "0                               NaN                               NaN   \n",
       "1                               NaN                               NaN   \n",
       "2                               NaN                               NaN   \n",
       "3                               NaN                               NaN   \n",
       "4                               NaN                               NaN   \n",
       "...                             ...                               ...   \n",
       "2874    Chirag Mittal, Anirudh Syal                   Endiya Partners   \n",
       "2875                     Bala Sarda                          IIFL AMC   \n",
       "2876     Arnav Kumar, Vaibhav Singh                      Owl Ventures   \n",
       "2877                   Ruchir Arora  Winter Capital, ETS, Man Capital   \n",
       "2878  Vishal Chopra, Himanshu Gupta    3one4 Capital, Kalaari Capital   \n",
       "\n",
       "                                              Subsector  \n",
       "0      Event Promotion, Marketing, Sponsorship, Tick...  \n",
       "1                                               Farming  \n",
       "2              Financial Services, Lending, Marketplace  \n",
       "3                                               FinTech  \n",
       "4                                          Retail, SaaS  \n",
       "...                                                 ...  \n",
       "2874                                               None  \n",
       "2875                                               None  \n",
       "2876                                               None  \n",
       "2877                                               None  \n",
       "2878                                               None  \n",
       "\n",
       "[2864 rows x 11 columns]"
      ]
     },
     "execution_count": 29,
     "metadata": {},
     "output_type": "execute_result"
    }
   ],
   "source": [
    "all_data"
   ]
  },
  {
   "cell_type": "code",
   "execution_count": 30,
   "id": "1d7f89c1",
   "metadata": {},
   "outputs": [],
   "source": [
    "#Replacing the cells with similar values in the Sector column\n",
    "all_data['Sector']=all_data['Sector'].replace('Edtech','EdTech').replace('Fintech','FinTech').replace('Agriculture','AgriTech').replace('Food & Beverages', 'Food and Beverages')\n",
    "all_data['Sector']=all_data['Sector'].replace('Financial Services','FinTech').replace('Healthcare','HealthTech').replace('HealthCare','HealthTech').replace('AI startup', 'AI').replace('Information Services','Information Technology & Services')\n",
    "all_data['Sector']=all_data['Sector'].replace('Healthtech','HealthTech').replace('Finance','FinTech').replace('Health Care','HealthTech').replace('Logistics & Supply Chain','Logistics').replace('Food Industry','FoodTech').replace('Foodtech','FoodTech')\n",
    "all_data['Sector']=all_data['Sector'].replace('—','Undisclosed').replace('SaaS startup','SaaS').replace('Health','HealthTech').replace('Ecommerce','E-Commerce').replace('Tech Startup', 'Tech').replace('Mobility','Transportation')\n",
    "all_data['Sector']=all_data['Sector'].replace('SaaS','Tech').replace('Artificial Intelligence','AI').replace('Food and Beverage','Food and Beverages').replace('Information Technology','Information Technology & Services').replace('Internet','Tech')\n",
    "all_data['Sector']=all_data['Sector'].replace('Apps','Tech').replace('Computer Software','Tech').replace('E-commerce','E-Commerce').replace('Agritech','AgriTech').replace('Hospital & Health Care','HealthTech').replace('Food','Foodtech')\n",
    "all_data['Sector']=all_data['Sector'].replace('Cosmetics','Consumer Goods').replace('Tech company','Tech').replace('Automobile','Automotive').replace('Computer software','Tech').replace('Apparel & Fashion','Fashion').replace('Education','EdTech')\n",
    "all_data['Sector']=all_data['Sector'].replace('Social Media','Media').replace('Digital Media','Media').replace('IT','Information Technology & Services').replace('IoT','AI').replace('Software','Tech').replace('Industrial Automation','AI').replace('Technology','Tech')\n",
    "all_data['Sector']=all_data['Sector'].replace('Information Technology & Services','InfoTech & Services')\n"
   ]
  },
  {
   "cell_type": "code",
   "execution_count": 31,
   "id": "c3ec1ef5",
   "metadata": {},
   "outputs": [],
   "source": [
    "#Cleaning and replacing with appropriate name in the HeadQuarter column e.g bangalore and bengaluru are both same\n",
    "#we will turn the column to a one word column\n",
    "\n",
    "#Bangalore\n",
    "all_data['HeadQuarter']=all_data['HeadQuarter'].replace('Bengaluru, Karnataka, India','Bangalore').replace('Bangalore, Karnataka, India','Bangalore').replace('Bangalore City, Karnataka, India','Bangalore').replace('Bengaluru','Bangalore')\n",
    "#Mumbai\n",
    "all_data['HeadQuarter']=all_data['HeadQuarter'].replace('Mumbai, Maharashtra, India','Mumbai')\n",
    "#Gurugram\n",
    "all_data['HeadQuarter']=all_data['HeadQuarter'].replace('Gurgaon, Haryana, India','Gurugram').replace('Gurgaon','Gurugram')\n",
    "#Delhi\n",
    "all_data['HeadQuarter']=all_data['HeadQuarter'].replace('New Delhi','Delhi').replace('New Delhi, Delhi, India','Delhi').replace('Delhi, Delhi, India','Delhi')\n",
    "#Chennai\n",
    "all_data['HeadQuarter']=all_data['HeadQuarter'].replace('Chennai, Tamil Nadu, India','Chennai')\n",
    "#Pune\n",
    "all_data['HeadQuarter']=all_data['HeadQuarter'].replace('Pune, Maharashtra, India','Pune')\n",
    "#Noida and Bhopal\n",
    "all_data['HeadQuarter']=all_data['HeadQuarter'].replace('Noida, Uttar Pradesh, India','Noida').replace('Bhopal, Madhya Pradesh, India','Bhopal')\n",
    "#Hyderabad and kochi\n",
    "all_data['HeadQuarter']=all_data['HeadQuarter'].replace('Hyderabad, Andhra Pradesh, India','Hyderabad').replace('Cochin','Kochi').replace('Kochi, Kerala, India','Kochi')\n",
    "#Ahmedabad\n",
    "all_data['HeadQuarter']=all_data['HeadQuarter'].replace('Ahmedabad, Gujarat, India','Ahmedabad').replace('Ahmadabad','Ahmedabad').replace('Trivandrum, Kerala, India','Trivandrum')\n",
    "#Jaipur\n",
    "all_data['HeadQuarter']=all_data['HeadQuarter'].replace('Jaipur, Rajasthan, India','Jaipur').replace('Jodhpur','Jaipur').replace('Jaipur, Rajastan','Jaipur')\n",
    "#Kolkata and thane\n",
    "all_data['HeadQuarter']=all_data['HeadQuarter'].replace('Kolkata, West Bengal, India','Kolkata').replace('Thane, Maharashtra, India','Thane')\n",
    "#Haryana and Indore\n",
    "all_data['HeadQuarter']=all_data['HeadQuarter'].replace('Haryana, Haryana, India','Haryana').replace('Indore, Madhya Pradesh, India','Indore')\n",
    "#Outside India\n",
    "all_data['HeadQuarter']=all_data['HeadQuarter'].replace('California','Outside India').replace('Singapore').replace('San Francisco','Outside India').replace('San Francisco, California, United States','Outside India')\n",
    "all_data['HeadQuarter']=all_data['HeadQuarter'].replace('San Francisco Bay Area, Silicon Valley, West Coast','Outside India').replace('New York','Outside India').replace('New York, United States','Outside India')"
   ]
  },
  {
   "cell_type": "code",
   "execution_count": 32,
   "id": "616e4343",
   "metadata": {},
   "outputs": [],
   "source": [
    "#cleaning the stage column to reflect the correct stages of funding in a start-up\n",
    "all_data['Stage']=all_data['Stage'].replace('Debt','Debt Financing').replace('Pre series A','Pre-series A').replace('Seed Round','Seed')\n",
    "all_data['Stage']=all_data['Stage'].replace('Seed round','Seed').replace('Seed funding','Seed').replace('Pre seed round','Pre-seed').replace('Seed+','Seed')\n",
    "all_data['Stage']=all_data['Stage'].replace('Pre-Series B','Pre-series B').replace('Pre series B','Pre-series B').replace('Pre Series A','Pre-series A')\n",
    "all_data['Stage']=all_data['Stage'].replace('Pre-series A1','Pre-series A').replace('Series D1','Series D').replace('Pre series A1','Pre-series A')\n",
    "all_data['Stage']=all_data['Stage'].replace('Series A-1','Series A')"
   ]
  },
  {
   "cell_type": "code",
   "execution_count": 33,
   "id": "3afa06c5",
   "metadata": {},
   "outputs": [],
   "source": [
    "#cleaning the investors column\n",
    "all_data['Investor']=all_data['Investor'].replace('Sequoia Surge','Sequoia Capital India').replace('Sequoia Capital','').replace('Sequoia Surge','Sequoia Capital India').replace('Sequoia India','Sequoia Capital India')\n",
    "all_data['Investor']=all_data['Investor'].replace('','Undisclosed')"
   ]
  },
  {
   "cell_type": "code",
   "execution_count": 67,
   "id": "81590e59",
   "metadata": {},
   "outputs": [],
   "source": [
    "#all_data['Sector'].value_counts().head(40)\n",
    "#all_data['HeadQuarter'].value_counts().head(50)\n",
    "#all_data['Stage'].value_counts().head(50)\n",
    "#all_data['Investor'].value_counts().head(50).sort_values(ascending=False)"
   ]
  },
  {
   "cell_type": "code",
   "execution_count": 35,
   "id": "e851c13b",
   "metadata": {},
   "outputs": [
    {
     "data": {
      "text/html": [
       "<div>\n",
       "<style scoped>\n",
       "    .dataframe tbody tr th:only-of-type {\n",
       "        vertical-align: middle;\n",
       "    }\n",
       "\n",
       "    .dataframe tbody tr th {\n",
       "        vertical-align: top;\n",
       "    }\n",
       "\n",
       "    .dataframe thead th {\n",
       "        text-align: right;\n",
       "    }\n",
       "</style>\n",
       "<table border=\"1\" class=\"dataframe\">\n",
       "  <thead>\n",
       "    <tr style=\"text-align: right;\">\n",
       "      <th></th>\n",
       "      <th>Company/Brand</th>\n",
       "      <th>Sector</th>\n",
       "      <th>Stage</th>\n",
       "      <th>Amount($)</th>\n",
       "      <th>HeadQuarter</th>\n",
       "      <th>What it does</th>\n",
       "      <th>Year</th>\n",
       "      <th>Founded</th>\n",
       "      <th>Founders</th>\n",
       "      <th>Investor</th>\n",
       "      <th>Subsector</th>\n",
       "    </tr>\n",
       "  </thead>\n",
       "  <tbody>\n",
       "    <tr>\n",
       "      <th>0</th>\n",
       "      <td>TheCollegeFever</td>\n",
       "      <td>Brand Marketing</td>\n",
       "      <td>Seed</td>\n",
       "      <td>3250.0</td>\n",
       "      <td>Bangalore</td>\n",
       "      <td>TheCollegeFever is a hub for fun, fiesta and f...</td>\n",
       "      <td>2018</td>\n",
       "      <td>NaN</td>\n",
       "      <td>NaN</td>\n",
       "      <td>NaN</td>\n",
       "      <td>Event Promotion, Marketing, Sponsorship, Tick...</td>\n",
       "    </tr>\n",
       "    <tr>\n",
       "      <th>1</th>\n",
       "      <td>Happy Cow Dairy</td>\n",
       "      <td>AgriTech</td>\n",
       "      <td>Seed</td>\n",
       "      <td>520000.0</td>\n",
       "      <td>Mumbai</td>\n",
       "      <td>A startup which aggregates milk from dairy far...</td>\n",
       "      <td>2018</td>\n",
       "      <td>NaN</td>\n",
       "      <td>NaN</td>\n",
       "      <td>NaN</td>\n",
       "      <td>Farming</td>\n",
       "    </tr>\n",
       "    <tr>\n",
       "      <th>2</th>\n",
       "      <td>MyLoanCare</td>\n",
       "      <td>Credit</td>\n",
       "      <td>Series A</td>\n",
       "      <td>845000.0</td>\n",
       "      <td>Gurugram</td>\n",
       "      <td>Leading Online Loans Marketplace in India</td>\n",
       "      <td>2018</td>\n",
       "      <td>NaN</td>\n",
       "      <td>NaN</td>\n",
       "      <td>NaN</td>\n",
       "      <td>Financial Services, Lending, Marketplace</td>\n",
       "    </tr>\n",
       "    <tr>\n",
       "      <th>3</th>\n",
       "      <td>PayMe India</td>\n",
       "      <td>FinTech</td>\n",
       "      <td>Angel</td>\n",
       "      <td>26000.0</td>\n",
       "      <td>Noida</td>\n",
       "      <td>PayMe India is an innovative FinTech organizat...</td>\n",
       "      <td>2018</td>\n",
       "      <td>NaN</td>\n",
       "      <td>NaN</td>\n",
       "      <td>NaN</td>\n",
       "      <td>FinTech</td>\n",
       "    </tr>\n",
       "    <tr>\n",
       "      <th>4</th>\n",
       "      <td>Eunimart</td>\n",
       "      <td>E-Commerce Platforms</td>\n",
       "      <td>Seed</td>\n",
       "      <td>Undisclosed</td>\n",
       "      <td>Hyderabad</td>\n",
       "      <td>Eunimart is a one stop solution for merchants ...</td>\n",
       "      <td>2018</td>\n",
       "      <td>NaN</td>\n",
       "      <td>NaN</td>\n",
       "      <td>NaN</td>\n",
       "      <td>Retail, SaaS</td>\n",
       "    </tr>\n",
       "    <tr>\n",
       "      <th>...</th>\n",
       "      <td>...</td>\n",
       "      <td>...</td>\n",
       "      <td>...</td>\n",
       "      <td>...</td>\n",
       "      <td>...</td>\n",
       "      <td>...</td>\n",
       "      <td>...</td>\n",
       "      <td>...</td>\n",
       "      <td>...</td>\n",
       "      <td>...</td>\n",
       "      <td>...</td>\n",
       "    </tr>\n",
       "    <tr>\n",
       "      <th>2874</th>\n",
       "      <td>Gigforce</td>\n",
       "      <td>Staffing &amp; Recruiting</td>\n",
       "      <td>Pre-series A</td>\n",
       "      <td>3000000</td>\n",
       "      <td>Gurugram</td>\n",
       "      <td>A gig/on-demand staffing company.</td>\n",
       "      <td>2021</td>\n",
       "      <td>2019.0</td>\n",
       "      <td>Chirag Mittal, Anirudh Syal</td>\n",
       "      <td>Endiya Partners</td>\n",
       "      <td>None</td>\n",
       "    </tr>\n",
       "    <tr>\n",
       "      <th>2875</th>\n",
       "      <td>Vahdam</td>\n",
       "      <td>Food and Beverages</td>\n",
       "      <td>Series D</td>\n",
       "      <td>20000000</td>\n",
       "      <td>Delhi</td>\n",
       "      <td>VAHDAM is among the world’s first vertically i...</td>\n",
       "      <td>2021</td>\n",
       "      <td>2015.0</td>\n",
       "      <td>Bala Sarda</td>\n",
       "      <td>IIFL AMC</td>\n",
       "      <td>None</td>\n",
       "    </tr>\n",
       "    <tr>\n",
       "      <th>2876</th>\n",
       "      <td>Leap Finance</td>\n",
       "      <td>FinTech</td>\n",
       "      <td>Series C</td>\n",
       "      <td>55000000</td>\n",
       "      <td>Bangalore</td>\n",
       "      <td>International education loans for high potenti...</td>\n",
       "      <td>2021</td>\n",
       "      <td>2019.0</td>\n",
       "      <td>Arnav Kumar, Vaibhav Singh</td>\n",
       "      <td>Owl Ventures</td>\n",
       "      <td>None</td>\n",
       "    </tr>\n",
       "    <tr>\n",
       "      <th>2877</th>\n",
       "      <td>CollegeDekho</td>\n",
       "      <td>EdTech</td>\n",
       "      <td>Series B</td>\n",
       "      <td>26000000</td>\n",
       "      <td>Gurugram</td>\n",
       "      <td>Collegedekho.com is Student’s Partner, Friend ...</td>\n",
       "      <td>2021</td>\n",
       "      <td>2015.0</td>\n",
       "      <td>Ruchir Arora</td>\n",
       "      <td>Winter Capital, ETS, Man Capital</td>\n",
       "      <td>None</td>\n",
       "    </tr>\n",
       "    <tr>\n",
       "      <th>2878</th>\n",
       "      <td>WeRize</td>\n",
       "      <td>FinTech</td>\n",
       "      <td>Series A</td>\n",
       "      <td>8000000</td>\n",
       "      <td>Bangalore</td>\n",
       "      <td>India’s first socially distributed full stack ...</td>\n",
       "      <td>2021</td>\n",
       "      <td>2019.0</td>\n",
       "      <td>Vishal Chopra, Himanshu Gupta</td>\n",
       "      <td>3one4 Capital, Kalaari Capital</td>\n",
       "      <td>None</td>\n",
       "    </tr>\n",
       "  </tbody>\n",
       "</table>\n",
       "<p>2864 rows × 11 columns</p>\n",
       "</div>"
      ],
      "text/plain": [
       "        Company/Brand                 Sector         Stage    Amount($)  \\\n",
       "0     TheCollegeFever        Brand Marketing          Seed       3250.0   \n",
       "1     Happy Cow Dairy               AgriTech          Seed     520000.0   \n",
       "2          MyLoanCare                 Credit      Series A     845000.0   \n",
       "3         PayMe India                FinTech         Angel      26000.0   \n",
       "4            Eunimart   E-Commerce Platforms          Seed  Undisclosed   \n",
       "...               ...                    ...           ...          ...   \n",
       "2874         Gigforce  Staffing & Recruiting  Pre-series A      3000000   \n",
       "2875           Vahdam     Food and Beverages      Series D     20000000   \n",
       "2876     Leap Finance                FinTech      Series C     55000000   \n",
       "2877     CollegeDekho                 EdTech      Series B     26000000   \n",
       "2878           WeRize                FinTech      Series A      8000000   \n",
       "\n",
       "     HeadQuarter                                       What it does  Year  \\\n",
       "0      Bangalore  TheCollegeFever is a hub for fun, fiesta and f...  2018   \n",
       "1         Mumbai  A startup which aggregates milk from dairy far...  2018   \n",
       "2       Gurugram          Leading Online Loans Marketplace in India  2018   \n",
       "3          Noida  PayMe India is an innovative FinTech organizat...  2018   \n",
       "4      Hyderabad  Eunimart is a one stop solution for merchants ...  2018   \n",
       "...          ...                                                ...   ...   \n",
       "2874    Gurugram                  A gig/on-demand staffing company.  2021   \n",
       "2875       Delhi  VAHDAM is among the world’s first vertically i...  2021   \n",
       "2876   Bangalore  International education loans for high potenti...  2021   \n",
       "2877    Gurugram  Collegedekho.com is Student’s Partner, Friend ...  2021   \n",
       "2878   Bangalore  India’s first socially distributed full stack ...  2021   \n",
       "\n",
       "     Founded                       Founders                          Investor  \\\n",
       "0        NaN                            NaN                               NaN   \n",
       "1        NaN                            NaN                               NaN   \n",
       "2        NaN                            NaN                               NaN   \n",
       "3        NaN                            NaN                               NaN   \n",
       "4        NaN                            NaN                               NaN   \n",
       "...      ...                            ...                               ...   \n",
       "2874  2019.0    Chirag Mittal, Anirudh Syal                   Endiya Partners   \n",
       "2875  2015.0                     Bala Sarda                          IIFL AMC   \n",
       "2876  2019.0     Arnav Kumar, Vaibhav Singh                      Owl Ventures   \n",
       "2877  2015.0                   Ruchir Arora  Winter Capital, ETS, Man Capital   \n",
       "2878  2019.0  Vishal Chopra, Himanshu Gupta    3one4 Capital, Kalaari Capital   \n",
       "\n",
       "                                              Subsector  \n",
       "0      Event Promotion, Marketing, Sponsorship, Tick...  \n",
       "1                                               Farming  \n",
       "2              Financial Services, Lending, Marketplace  \n",
       "3                                               FinTech  \n",
       "4                                          Retail, SaaS  \n",
       "...                                                 ...  \n",
       "2874                                               None  \n",
       "2875                                               None  \n",
       "2876                                               None  \n",
       "2877                                               None  \n",
       "2878                                               None  \n",
       "\n",
       "[2864 rows x 11 columns]"
      ]
     },
     "execution_count": 35,
     "metadata": {},
     "output_type": "execute_result"
    }
   ],
   "source": [
    "all_data"
   ]
  },
  {
   "cell_type": "code",
   "execution_count": 36,
   "id": "2bcfddfe",
   "metadata": {},
   "outputs": [],
   "source": [
    "#drop unimportant columns eg founded\n",
    "#all_data.drop(columns=['Founded'], inplace=True)"
   ]
  },
  {
   "cell_type": "code",
   "execution_count": 37,
   "id": "cc5816ac",
   "metadata": {},
   "outputs": [],
   "source": [
    "#remove the amount undisclosed from our Dataset, \n",
    "Undisclosed_funding=all_data[all_data['Amount($)']=='Undisclosed']\n",
    "\n",
    "Final_data=all_data[all_data['Amount($)']!='Undisclosed']"
   ]
  },
  {
   "cell_type": "code",
   "execution_count": 38,
   "id": "147ab611",
   "metadata": {},
   "outputs": [
    {
     "name": "stdout",
     "output_type": "stream",
     "text": [
      "<class 'pandas.core.frame.DataFrame'>\n",
      "RangeIndex: 2321 entries, 0 to 2320\n",
      "Data columns (total 11 columns):\n",
      " #   Column         Non-Null Count  Dtype \n",
      "---  ------         --------------  ----- \n",
      " 0   Company/Brand  2321 non-null   object\n",
      " 1   Sector         2305 non-null   object\n",
      " 2   Stage          1599 non-null   object\n",
      " 3   Amount($)      2315 non-null   object\n",
      " 4   HeadQuarter    2227 non-null   object\n",
      " 5   What it does   2321 non-null   object\n",
      " 6   Year           2321 non-null   int64 \n",
      " 7   Founded        1772 non-null   object\n",
      " 8   Founders       1929 non-null   object\n",
      " 9   Investor       1860 non-null   object\n",
      " 10  Subsector      302 non-null    object\n",
      "dtypes: int64(1), object(10)\n",
      "memory usage: 199.6+ KB\n"
     ]
    }
   ],
   "source": [
    "#resetting the index\n",
    "Final_data.reset_index(drop=True, inplace=True)\n",
    "Final_data.info()"
   ]
  },
  {
   "cell_type": "code",
   "execution_count": 39,
   "id": "af65c16d",
   "metadata": {},
   "outputs": [
    {
     "name": "stderr",
     "output_type": "stream",
     "text": [
      "C:\\Users\\emman\\AppData\\Local\\Temp\\ipykernel_3964\\1548984802.py:1: SettingWithCopyWarning: \n",
      "A value is trying to be set on a copy of a slice from a DataFrame.\n",
      "Try using .loc[row_indexer,col_indexer] = value instead\n",
      "\n",
      "See the caveats in the documentation: https://pandas.pydata.org/pandas-docs/stable/user_guide/indexing.html#returning-a-view-versus-a-copy\n",
      "  Final_data['Amount($)']=Final_data['Amount($)'].astype(float)\n"
     ]
    }
   ],
   "source": [
    "Final_data['Amount($)']=Final_data['Amount($)'].astype(float)"
   ]
  },
  {
   "cell_type": "code",
   "execution_count": 107,
   "id": "b61caabd",
   "metadata": {},
   "outputs": [
    {
     "data": {
      "text/html": [
       "<div>\n",
       "<style scoped>\n",
       "    .dataframe tbody tr th:only-of-type {\n",
       "        vertical-align: middle;\n",
       "    }\n",
       "\n",
       "    .dataframe tbody tr th {\n",
       "        vertical-align: top;\n",
       "    }\n",
       "\n",
       "    .dataframe thead th {\n",
       "        text-align: right;\n",
       "    }\n",
       "</style>\n",
       "<table border=\"1\" class=\"dataframe\">\n",
       "  <thead>\n",
       "    <tr style=\"text-align: right;\">\n",
       "      <th></th>\n",
       "      <th>Amount($)</th>\n",
       "      <th>Year</th>\n",
       "    </tr>\n",
       "  </thead>\n",
       "  <tbody>\n",
       "    <tr>\n",
       "      <th>count</th>\n",
       "      <td>2.315000e+03</td>\n",
       "      <td>2321.000000</td>\n",
       "    </tr>\n",
       "    <tr>\n",
       "      <th>mean</th>\n",
       "      <td>1.201321e+08</td>\n",
       "      <td>2020.096941</td>\n",
       "    </tr>\n",
       "    <tr>\n",
       "      <th>std</th>\n",
       "      <td>3.440737e+09</td>\n",
       "      <td>1.063742</td>\n",
       "    </tr>\n",
       "    <tr>\n",
       "      <th>min</th>\n",
       "      <td>9.600000e+00</td>\n",
       "      <td>2018.000000</td>\n",
       "    </tr>\n",
       "    <tr>\n",
       "      <th>25%</th>\n",
       "      <td>6.000000e+05</td>\n",
       "      <td>2020.000000</td>\n",
       "    </tr>\n",
       "    <tr>\n",
       "      <th>50%</th>\n",
       "      <td>2.600000e+06</td>\n",
       "      <td>2020.000000</td>\n",
       "    </tr>\n",
       "    <tr>\n",
       "      <th>75%</th>\n",
       "      <td>1.100000e+07</td>\n",
       "      <td>2021.000000</td>\n",
       "    </tr>\n",
       "    <tr>\n",
       "      <th>max</th>\n",
       "      <td>1.500000e+11</td>\n",
       "      <td>2021.000000</td>\n",
       "    </tr>\n",
       "  </tbody>\n",
       "</table>\n",
       "</div>"
      ],
      "text/plain": [
       "          Amount($)         Year\n",
       "count  2.315000e+03  2321.000000\n",
       "mean   1.201321e+08  2020.096941\n",
       "std    3.440737e+09     1.063742\n",
       "min    9.600000e+00  2018.000000\n",
       "25%    6.000000e+05  2020.000000\n",
       "50%    2.600000e+06  2020.000000\n",
       "75%    1.100000e+07  2021.000000\n",
       "max    1.500000e+11  2021.000000"
      ]
     },
     "execution_count": 107,
     "metadata": {},
     "output_type": "execute_result"
    }
   ],
   "source": [
    "Final_data.describe()"
   ]
  },
  {
   "cell_type": "code",
   "execution_count": 108,
   "id": "7cb23f79",
   "metadata": {},
   "outputs": [
    {
     "data": {
      "text/html": [
       "<div>\n",
       "<style scoped>\n",
       "    .dataframe tbody tr th:only-of-type {\n",
       "        vertical-align: middle;\n",
       "    }\n",
       "\n",
       "    .dataframe tbody tr th {\n",
       "        vertical-align: top;\n",
       "    }\n",
       "\n",
       "    .dataframe thead th {\n",
       "        text-align: right;\n",
       "    }\n",
       "</style>\n",
       "<table border=\"1\" class=\"dataframe\">\n",
       "  <thead>\n",
       "    <tr style=\"text-align: right;\">\n",
       "      <th></th>\n",
       "      <th>Company/Brand</th>\n",
       "      <th>Sector</th>\n",
       "      <th>Stage</th>\n",
       "      <th>Amount($)</th>\n",
       "      <th>HeadQuarter</th>\n",
       "      <th>What it does</th>\n",
       "      <th>Year</th>\n",
       "      <th>Founded</th>\n",
       "      <th>Founders</th>\n",
       "      <th>Investor</th>\n",
       "      <th>Subsector</th>\n",
       "    </tr>\n",
       "  </thead>\n",
       "  <tbody>\n",
       "    <tr>\n",
       "      <th>1329</th>\n",
       "      <td>Alteria Capital</td>\n",
       "      <td>FinTech</td>\n",
       "      <td>Debt Financing</td>\n",
       "      <td>1.500000e+11</td>\n",
       "      <td>Mumbai</td>\n",
       "      <td>Alteria Capital is a Venture debt firm .</td>\n",
       "      <td>2021</td>\n",
       "      <td>2018.0</td>\n",
       "      <td>Vinod Murali</td>\n",
       "      <td>NaN</td>\n",
       "      <td>None</td>\n",
       "    </tr>\n",
       "  </tbody>\n",
       "</table>\n",
       "</div>"
      ],
      "text/plain": [
       "        Company/Brand   Sector           Stage     Amount($) HeadQuarter  \\\n",
       "1329  Alteria Capital  FinTech  Debt Financing  1.500000e+11      Mumbai   \n",
       "\n",
       "                                  What it does  Year Founded      Founders  \\\n",
       "1329  Alteria Capital is a Venture debt firm .  2021  2018.0  Vinod Murali   \n",
       "\n",
       "     Investor Subsector  \n",
       "1329      NaN      None  "
      ]
     },
     "execution_count": 108,
     "metadata": {},
     "output_type": "execute_result"
    }
   ],
   "source": [
    "Final_data[Final_data['Amount($)']==1.500000e+11]"
   ]
  },
  {
   "cell_type": "code",
   "execution_count": 114,
   "id": "1d7c23ba",
   "metadata": {},
   "outputs": [
    {
     "data": {
      "text/plain": [
       "(148.525, 2748800000.000119)"
      ]
     },
     "execution_count": 114,
     "metadata": {},
     "output_type": "execute_result"
    }
   ],
   "source": [
    "#Removing Outliers. to remove outliers we first set up percent quantile with min and max threshold and remove any value below those threshold\n",
    "Min_threshold,Max_threshold=Final_data['Amount($)'].quantile([0.001, 0.999])\n",
    "Min_threshold,Max_threshold"
   ]
  },
  {
   "cell_type": "code",
   "execution_count": 115,
   "id": "10417bf0",
   "metadata": {
    "scrolled": true
   },
   "outputs": [
    {
     "data": {
      "text/html": [
       "<div>\n",
       "<style scoped>\n",
       "    .dataframe tbody tr th:only-of-type {\n",
       "        vertical-align: middle;\n",
       "    }\n",
       "\n",
       "    .dataframe tbody tr th {\n",
       "        vertical-align: top;\n",
       "    }\n",
       "\n",
       "    .dataframe thead th {\n",
       "        text-align: right;\n",
       "    }\n",
       "</style>\n",
       "<table border=\"1\" class=\"dataframe\">\n",
       "  <thead>\n",
       "    <tr style=\"text-align: right;\">\n",
       "      <th></th>\n",
       "      <th>Company/Brand</th>\n",
       "      <th>Sector</th>\n",
       "      <th>Stage</th>\n",
       "      <th>Amount($)</th>\n",
       "      <th>HeadQuarter</th>\n",
       "      <th>What it does</th>\n",
       "      <th>Year</th>\n",
       "      <th>Founded</th>\n",
       "      <th>Founders</th>\n",
       "      <th>Investor</th>\n",
       "      <th>Subsector</th>\n",
       "    </tr>\n",
       "  </thead>\n",
       "  <tbody>\n",
       "    <tr>\n",
       "      <th>670</th>\n",
       "      <td>Reliance Retail Ventures Ltd</td>\n",
       "      <td>Retail</td>\n",
       "      <td>NaN</td>\n",
       "      <td>7.000000e+10</td>\n",
       "      <td>Mumbai</td>\n",
       "      <td>Reliance Retail offers online shopping and a c...</td>\n",
       "      <td>2020</td>\n",
       "      <td>2006</td>\n",
       "      <td>Mukesh Ambani</td>\n",
       "      <td>Silver Lake, Mubadala Investment Company</td>\n",
       "      <td>None</td>\n",
       "    </tr>\n",
       "    <tr>\n",
       "      <th>699</th>\n",
       "      <td>Snowflake</td>\n",
       "      <td>Tech</td>\n",
       "      <td>NaN</td>\n",
       "      <td>3.000000e+09</td>\n",
       "      <td>Outside India</td>\n",
       "      <td>Snowflake is a cloud data platform that provid...</td>\n",
       "      <td>2020</td>\n",
       "      <td>2012</td>\n",
       "      <td>Benoit Dageville, Bob Muglia, Marcin Zukowski,...</td>\n",
       "      <td>Salesforce Ventures, Dragoneer Investment Group</td>\n",
       "      <td>None</td>\n",
       "    </tr>\n",
       "    <tr>\n",
       "      <th>1329</th>\n",
       "      <td>Alteria Capital</td>\n",
       "      <td>FinTech</td>\n",
       "      <td>Debt Financing</td>\n",
       "      <td>1.500000e+11</td>\n",
       "      <td>Mumbai</td>\n",
       "      <td>Alteria Capital is a Venture debt firm .</td>\n",
       "      <td>2021</td>\n",
       "      <td>2018.0</td>\n",
       "      <td>Vinod Murali</td>\n",
       "      <td>NaN</td>\n",
       "      <td>None</td>\n",
       "    </tr>\n",
       "  </tbody>\n",
       "</table>\n",
       "</div>"
      ],
      "text/plain": [
       "                     Company/Brand   Sector           Stage     Amount($)  \\\n",
       "670   Reliance Retail Ventures Ltd   Retail             NaN  7.000000e+10   \n",
       "699                      Snowflake     Tech             NaN  3.000000e+09   \n",
       "1329               Alteria Capital  FinTech  Debt Financing  1.500000e+11   \n",
       "\n",
       "        HeadQuarter                                       What it does  Year  \\\n",
       "670          Mumbai  Reliance Retail offers online shopping and a c...  2020   \n",
       "699   Outside India  Snowflake is a cloud data platform that provid...  2020   \n",
       "1329         Mumbai           Alteria Capital is a Venture debt firm .  2021   \n",
       "\n",
       "     Founded                                           Founders  \\\n",
       "670     2006                                      Mukesh Ambani   \n",
       "699     2012  Benoit Dageville, Bob Muglia, Marcin Zukowski,...   \n",
       "1329  2018.0                                       Vinod Murali   \n",
       "\n",
       "                                             Investor Subsector  \n",
       "670          Silver Lake, Mubadala Investment Company      None  \n",
       "699   Salesforce Ventures, Dragoneer Investment Group      None  \n",
       "1329                                              NaN      None  "
      ]
     },
     "execution_count": 115,
     "metadata": {},
     "output_type": "execute_result"
    }
   ],
   "source": [
    "#let us peak at the values above our 99.9% quartile for max threshold\n",
    "Final_data[Final_data['Amount($)']>Max_threshold]"
   ]
  },
  {
   "cell_type": "code",
   "execution_count": 116,
   "id": "b7c77096",
   "metadata": {},
   "outputs": [
    {
     "data": {
      "text/html": [
       "<div>\n",
       "<style scoped>\n",
       "    .dataframe tbody tr th:only-of-type {\n",
       "        vertical-align: middle;\n",
       "    }\n",
       "\n",
       "    .dataframe tbody tr th {\n",
       "        vertical-align: top;\n",
       "    }\n",
       "\n",
       "    .dataframe thead th {\n",
       "        text-align: right;\n",
       "    }\n",
       "</style>\n",
       "<table border=\"1\" class=\"dataframe\">\n",
       "  <thead>\n",
       "    <tr style=\"text-align: right;\">\n",
       "      <th></th>\n",
       "      <th>Company/Brand</th>\n",
       "      <th>Sector</th>\n",
       "      <th>Stage</th>\n",
       "      <th>Amount($)</th>\n",
       "      <th>HeadQuarter</th>\n",
       "      <th>What it does</th>\n",
       "      <th>Year</th>\n",
       "      <th>Founded</th>\n",
       "      <th>Founders</th>\n",
       "      <th>Investor</th>\n",
       "      <th>Subsector</th>\n",
       "    </tr>\n",
       "  </thead>\n",
       "  <tbody>\n",
       "    <tr>\n",
       "      <th>375</th>\n",
       "      <td>Mombay</td>\n",
       "      <td>Food and Beverages</td>\n",
       "      <td>Seed</td>\n",
       "      <td>97.50</td>\n",
       "      <td>Mumbai</td>\n",
       "      <td>Mombay is a unique opportunity for housewives ...</td>\n",
       "      <td>2018</td>\n",
       "      <td>NaN</td>\n",
       "      <td>NaN</td>\n",
       "      <td>NaN</td>\n",
       "      <td>Food Delivery, Internet</td>\n",
       "    </tr>\n",
       "    <tr>\n",
       "      <th>890</th>\n",
       "      <td>SATYA Microcapital</td>\n",
       "      <td>FinTech</td>\n",
       "      <td>NaN</td>\n",
       "      <td>9.60</td>\n",
       "      <td>Delhi</td>\n",
       "      <td>Microfinance company that offers collateral-fr...</td>\n",
       "      <td>2020</td>\n",
       "      <td>1995</td>\n",
       "      <td>Vivek Tiwari</td>\n",
       "      <td>BlueOrchard Finance Limited</td>\n",
       "      <td>None</td>\n",
       "    </tr>\n",
       "    <tr>\n",
       "      <th>1089</th>\n",
       "      <td>Peel Works</td>\n",
       "      <td>Tech</td>\n",
       "      <td>Series C, D</td>\n",
       "      <td>42.23</td>\n",
       "      <td>Mumbai</td>\n",
       "      <td>E-commerce for corner/retail stores.</td>\n",
       "      <td>2020</td>\n",
       "      <td>2010</td>\n",
       "      <td>Sachin Chhabra, Nidhi Ramachandran</td>\n",
       "      <td>CESC Ventures</td>\n",
       "      <td>None</td>\n",
       "    </tr>\n",
       "  </tbody>\n",
       "</table>\n",
       "</div>"
      ],
      "text/plain": [
       "           Company/Brand              Sector        Stage  Amount($)  \\\n",
       "375               Mombay  Food and Beverages         Seed      97.50   \n",
       "890   SATYA Microcapital             FinTech          NaN       9.60   \n",
       "1089          Peel Works                Tech  Series C, D      42.23   \n",
       "\n",
       "     HeadQuarter                                       What it does  Year  \\\n",
       "375       Mumbai  Mombay is a unique opportunity for housewives ...  2018   \n",
       "890        Delhi  Microfinance company that offers collateral-fr...  2020   \n",
       "1089      Mumbai               E-commerce for corner/retail stores.  2020   \n",
       "\n",
       "     Founded                            Founders                     Investor  \\\n",
       "375      NaN                                 NaN                          NaN   \n",
       "890     1995                        Vivek Tiwari  BlueOrchard Finance Limited   \n",
       "1089    2010  Sachin Chhabra, Nidhi Ramachandran                CESC Ventures   \n",
       "\n",
       "                     Subsector  \n",
       "375    Food Delivery, Internet  \n",
       "890                       None  \n",
       "1089                      None  "
      ]
     },
     "execution_count": 116,
     "metadata": {},
     "output_type": "execute_result"
    }
   ],
   "source": [
    "#below Minimum Threshold\n",
    "Final_data[Final_data['Amount($)']<Min_threshold]"
   ]
  },
  {
   "cell_type": "code",
   "execution_count": 118,
   "id": "68721c54",
   "metadata": {},
   "outputs": [
    {
     "data": {
      "text/html": [
       "<div>\n",
       "<style scoped>\n",
       "    .dataframe tbody tr th:only-of-type {\n",
       "        vertical-align: middle;\n",
       "    }\n",
       "\n",
       "    .dataframe tbody tr th {\n",
       "        vertical-align: top;\n",
       "    }\n",
       "\n",
       "    .dataframe thead th {\n",
       "        text-align: right;\n",
       "    }\n",
       "</style>\n",
       "<table border=\"1\" class=\"dataframe\">\n",
       "  <thead>\n",
       "    <tr style=\"text-align: right;\">\n",
       "      <th></th>\n",
       "      <th>Company/Brand</th>\n",
       "      <th>Sector</th>\n",
       "      <th>Stage</th>\n",
       "      <th>Amount($)</th>\n",
       "      <th>HeadQuarter</th>\n",
       "      <th>What it does</th>\n",
       "      <th>Year</th>\n",
       "      <th>Founded</th>\n",
       "      <th>Founders</th>\n",
       "      <th>Investor</th>\n",
       "      <th>Subsector</th>\n",
       "    </tr>\n",
       "  </thead>\n",
       "  <tbody>\n",
       "    <tr>\n",
       "      <th>0</th>\n",
       "      <td>TheCollegeFever</td>\n",
       "      <td>Brand Marketing</td>\n",
       "      <td>Seed</td>\n",
       "      <td>3250.0</td>\n",
       "      <td>Bangalore</td>\n",
       "      <td>TheCollegeFever is a hub for fun, fiesta and f...</td>\n",
       "      <td>2018</td>\n",
       "      <td>NaN</td>\n",
       "      <td>NaN</td>\n",
       "      <td>NaN</td>\n",
       "      <td>Event Promotion, Marketing, Sponsorship, Tick...</td>\n",
       "    </tr>\n",
       "    <tr>\n",
       "      <th>1</th>\n",
       "      <td>Happy Cow Dairy</td>\n",
       "      <td>AgriTech</td>\n",
       "      <td>Seed</td>\n",
       "      <td>520000.0</td>\n",
       "      <td>Mumbai</td>\n",
       "      <td>A startup which aggregates milk from dairy far...</td>\n",
       "      <td>2018</td>\n",
       "      <td>NaN</td>\n",
       "      <td>NaN</td>\n",
       "      <td>NaN</td>\n",
       "      <td>Farming</td>\n",
       "    </tr>\n",
       "    <tr>\n",
       "      <th>2</th>\n",
       "      <td>MyLoanCare</td>\n",
       "      <td>Credit</td>\n",
       "      <td>Series A</td>\n",
       "      <td>845000.0</td>\n",
       "      <td>Gurugram</td>\n",
       "      <td>Leading Online Loans Marketplace in India</td>\n",
       "      <td>2018</td>\n",
       "      <td>NaN</td>\n",
       "      <td>NaN</td>\n",
       "      <td>NaN</td>\n",
       "      <td>Financial Services, Lending, Marketplace</td>\n",
       "    </tr>\n",
       "    <tr>\n",
       "      <th>3</th>\n",
       "      <td>PayMe India</td>\n",
       "      <td>FinTech</td>\n",
       "      <td>Angel</td>\n",
       "      <td>26000.0</td>\n",
       "      <td>Noida</td>\n",
       "      <td>PayMe India is an innovative FinTech organizat...</td>\n",
       "      <td>2018</td>\n",
       "      <td>NaN</td>\n",
       "      <td>NaN</td>\n",
       "      <td>NaN</td>\n",
       "      <td>FinTech</td>\n",
       "    </tr>\n",
       "    <tr>\n",
       "      <th>4</th>\n",
       "      <td>Hasura</td>\n",
       "      <td>Cloud Infrastructure</td>\n",
       "      <td>Seed</td>\n",
       "      <td>20800.0</td>\n",
       "      <td>Bangalore</td>\n",
       "      <td>Hasura is a platform that allows developers to...</td>\n",
       "      <td>2018</td>\n",
       "      <td>NaN</td>\n",
       "      <td>NaN</td>\n",
       "      <td>NaN</td>\n",
       "      <td>PaaS, SaaS</td>\n",
       "    </tr>\n",
       "    <tr>\n",
       "      <th>...</th>\n",
       "      <td>...</td>\n",
       "      <td>...</td>\n",
       "      <td>...</td>\n",
       "      <td>...</td>\n",
       "      <td>...</td>\n",
       "      <td>...</td>\n",
       "      <td>...</td>\n",
       "      <td>...</td>\n",
       "      <td>...</td>\n",
       "      <td>...</td>\n",
       "      <td>...</td>\n",
       "    </tr>\n",
       "    <tr>\n",
       "      <th>2316</th>\n",
       "      <td>Gigforce</td>\n",
       "      <td>Staffing &amp; Recruiting</td>\n",
       "      <td>Pre-series A</td>\n",
       "      <td>3000000.0</td>\n",
       "      <td>Gurugram</td>\n",
       "      <td>A gig/on-demand staffing company.</td>\n",
       "      <td>2021</td>\n",
       "      <td>2019.0</td>\n",
       "      <td>Chirag Mittal, Anirudh Syal</td>\n",
       "      <td>Endiya Partners</td>\n",
       "      <td>None</td>\n",
       "    </tr>\n",
       "    <tr>\n",
       "      <th>2317</th>\n",
       "      <td>Vahdam</td>\n",
       "      <td>Food and Beverages</td>\n",
       "      <td>Series D</td>\n",
       "      <td>20000000.0</td>\n",
       "      <td>Delhi</td>\n",
       "      <td>VAHDAM is among the world’s first vertically i...</td>\n",
       "      <td>2021</td>\n",
       "      <td>2015.0</td>\n",
       "      <td>Bala Sarda</td>\n",
       "      <td>IIFL AMC</td>\n",
       "      <td>None</td>\n",
       "    </tr>\n",
       "    <tr>\n",
       "      <th>2318</th>\n",
       "      <td>Leap Finance</td>\n",
       "      <td>FinTech</td>\n",
       "      <td>Series C</td>\n",
       "      <td>55000000.0</td>\n",
       "      <td>Bangalore</td>\n",
       "      <td>International education loans for high potenti...</td>\n",
       "      <td>2021</td>\n",
       "      <td>2019.0</td>\n",
       "      <td>Arnav Kumar, Vaibhav Singh</td>\n",
       "      <td>Owl Ventures</td>\n",
       "      <td>None</td>\n",
       "    </tr>\n",
       "    <tr>\n",
       "      <th>2319</th>\n",
       "      <td>CollegeDekho</td>\n",
       "      <td>EdTech</td>\n",
       "      <td>Series B</td>\n",
       "      <td>26000000.0</td>\n",
       "      <td>Gurugram</td>\n",
       "      <td>Collegedekho.com is Student’s Partner, Friend ...</td>\n",
       "      <td>2021</td>\n",
       "      <td>2015.0</td>\n",
       "      <td>Ruchir Arora</td>\n",
       "      <td>Winter Capital, ETS, Man Capital</td>\n",
       "      <td>None</td>\n",
       "    </tr>\n",
       "    <tr>\n",
       "      <th>2320</th>\n",
       "      <td>WeRize</td>\n",
       "      <td>FinTech</td>\n",
       "      <td>Series A</td>\n",
       "      <td>8000000.0</td>\n",
       "      <td>Bangalore</td>\n",
       "      <td>India’s first socially distributed full stack ...</td>\n",
       "      <td>2021</td>\n",
       "      <td>2019.0</td>\n",
       "      <td>Vishal Chopra, Himanshu Gupta</td>\n",
       "      <td>3one4 Capital, Kalaari Capital</td>\n",
       "      <td>None</td>\n",
       "    </tr>\n",
       "  </tbody>\n",
       "</table>\n",
       "<p>2309 rows × 11 columns</p>\n",
       "</div>"
      ],
      "text/plain": [
       "        Company/Brand                 Sector         Stage   Amount($)  \\\n",
       "0     TheCollegeFever        Brand Marketing          Seed      3250.0   \n",
       "1     Happy Cow Dairy               AgriTech          Seed    520000.0   \n",
       "2          MyLoanCare                 Credit      Series A    845000.0   \n",
       "3         PayMe India                FinTech         Angel     26000.0   \n",
       "4              Hasura   Cloud Infrastructure          Seed     20800.0   \n",
       "...               ...                    ...           ...         ...   \n",
       "2316         Gigforce  Staffing & Recruiting  Pre-series A   3000000.0   \n",
       "2317           Vahdam     Food and Beverages      Series D  20000000.0   \n",
       "2318     Leap Finance                FinTech      Series C  55000000.0   \n",
       "2319     CollegeDekho                 EdTech      Series B  26000000.0   \n",
       "2320           WeRize                FinTech      Series A   8000000.0   \n",
       "\n",
       "     HeadQuarter                                       What it does  Year  \\\n",
       "0      Bangalore  TheCollegeFever is a hub for fun, fiesta and f...  2018   \n",
       "1         Mumbai  A startup which aggregates milk from dairy far...  2018   \n",
       "2       Gurugram          Leading Online Loans Marketplace in India  2018   \n",
       "3          Noida  PayMe India is an innovative FinTech organizat...  2018   \n",
       "4      Bangalore  Hasura is a platform that allows developers to...  2018   \n",
       "...          ...                                                ...   ...   \n",
       "2316    Gurugram                  A gig/on-demand staffing company.  2021   \n",
       "2317       Delhi  VAHDAM is among the world’s first vertically i...  2021   \n",
       "2318   Bangalore  International education loans for high potenti...  2021   \n",
       "2319    Gurugram  Collegedekho.com is Student’s Partner, Friend ...  2021   \n",
       "2320   Bangalore  India’s first socially distributed full stack ...  2021   \n",
       "\n",
       "     Founded                       Founders                          Investor  \\\n",
       "0        NaN                            NaN                               NaN   \n",
       "1        NaN                            NaN                               NaN   \n",
       "2        NaN                            NaN                               NaN   \n",
       "3        NaN                            NaN                               NaN   \n",
       "4        NaN                            NaN                               NaN   \n",
       "...      ...                            ...                               ...   \n",
       "2316  2019.0    Chirag Mittal, Anirudh Syal                   Endiya Partners   \n",
       "2317  2015.0                     Bala Sarda                          IIFL AMC   \n",
       "2318  2019.0     Arnav Kumar, Vaibhav Singh                      Owl Ventures   \n",
       "2319  2015.0                   Ruchir Arora  Winter Capital, ETS, Man Capital   \n",
       "2320  2019.0  Vishal Chopra, Himanshu Gupta    3one4 Capital, Kalaari Capital   \n",
       "\n",
       "                                              Subsector  \n",
       "0      Event Promotion, Marketing, Sponsorship, Tick...  \n",
       "1                                               Farming  \n",
       "2              Financial Services, Lending, Marketplace  \n",
       "3                                               FinTech  \n",
       "4                                            PaaS, SaaS  \n",
       "...                                                 ...  \n",
       "2316                                               None  \n",
       "2317                                               None  \n",
       "2318                                               None  \n",
       "2319                                               None  \n",
       "2320                                               None  \n",
       "\n",
       "[2309 rows x 11 columns]"
      ]
     },
     "execution_count": 118,
     "metadata": {},
     "output_type": "execute_result"
    }
   ],
   "source": [
    "#then we finally remove the Outliers and place the resulting dataset in a new variable called Real_data\n",
    "Real_data=Final_data[(Final_data['Amount($)']<Max_threshold)&(Final_data['Amount($)']>Min_threshold)]\n",
    "Real_data"
   ]
  },
  {
   "cell_type": "code",
   "execution_count": 41,
   "id": "510affa0",
   "metadata": {},
   "outputs": [],
   "source": [
    "import seaborn as sns\n",
    "import matplotlib.pyplot as plt\n",
    "import matplotlib\n",
    "import numpy as np\n",
    "%matplotlib inline"
   ]
  },
  {
   "cell_type": "markdown",
   "id": "95c1e3c1",
   "metadata": {},
   "source": [
    "# QUESTIONS AND ANSWER"
   ]
  },
  {
   "cell_type": "markdown",
   "id": "1bcbc66a",
   "metadata": {},
   "source": [
    "# 1. Funding Ecosystem"
   ]
  },
  {
   "cell_type": "code",
   "execution_count": 98,
   "id": "9b7e731d",
   "metadata": {
    "scrolled": true
   },
   "outputs": [
    {
     "data": {
      "text/plain": [
       "2021    1196\n",
       "2020    1053\n",
       "2018     526\n",
       "2019      89\n",
       "Name: Year, dtype: int64"
      ]
     },
     "execution_count": 98,
     "metadata": {},
     "output_type": "execute_result"
    }
   ],
   "source": [
    "all_data['Year'].value_counts()"
   ]
  },
  {
   "cell_type": "code",
   "execution_count": 93,
   "id": "f851091a",
   "metadata": {},
   "outputs": [
    {
     "name": "stderr",
     "output_type": "stream",
     "text": [
      "C:\\Users\\emman\\anaconda3\\lib\\site-packages\\seaborn\\_decorators.py:36: FutureWarning: Pass the following variable as a keyword arg: x. From version 0.12, the only valid positional argument will be `data`, and passing other arguments without an explicit keyword will result in an error or misinterpretation.\n",
      "  warnings.warn(\n"
     ]
    },
    {
     "data": {
      "image/png": "[encoded data removed]",
      "text/plain": [
       "<Figure size 1080x360 with 1 Axes>"
      ]
     },
     "metadata": {
      "needs_background": "light"
     },
     "output_type": "display_data"
    }
   ],
   "source": [
    "# Number of Start-ups across the years\n",
    "sns.countplot(all_data['Year'])\n",
    "plt.xlabel('Year')\n",
    "plt.ylabel('No. of Startups Funded')\n",
    "plt.title('No of Startups Funded Over the Years')\n",
    "matplotlib.rcParams['figure.figsize'] = (15, 5)"
   ]
  },
  {
   "cell_type": "markdown",
   "id": "82d94caf",
   "metadata": {},
   "source": [
    "This bar graph shows the number of start-ups funded per year, with 2021 having the highest number of startups."
   ]
  },
  {
   "cell_type": "code",
   "execution_count": 137,
   "id": "3066015e",
   "metadata": {
    "scrolled": true
   },
   "outputs": [
    {
     "data": {
      "image/png": "[encoded data removed]",
      "text/plain": [
       "<Figure size 1080x360 with 1 Axes>"
      ]
     },
     "metadata": {
      "needs_background": "light"
     },
     "output_type": "display_data"
    }
   ],
   "source": [
    "#Here we are looking at the funding across different years. a new dataframe was created just to include amount and year\n",
    "Totalfunded = pd.DataFrame(Final_data.groupby(by=['Year'])['Amount($)'].sum().sort_values(ascending=False))\n",
    "Totalfunded\n",
    "#Totalfunded.rename(columns={\"Amount($)\":\"Total Funding(USD-Bn)\"}, inplace=True)\n",
    "#Totalfunded = .sort_values(by='Total Funding(USD-Bn)', ascending=False)\n",
    "sns.barplot(x=Totalfunded.index, y=Totalfunded['Amount($)'], data=Totalfunded)\n",
    "plt.title('FUNDING ACROSS THE YEARS')\n",
    "matplotlib.rcParams['figure.figsize'] = (10, 5)"
   ]
  },
  {
   "cell_type": "markdown",
   "id": "8d3e8bd0",
   "metadata": {},
   "source": [
    "The total amount of funding was lowest 2019 but moved up continuously from 2020 to 2021"
   ]
  },
  {
   "cell_type": "code",
   "execution_count": 44,
   "id": "f536c54c",
   "metadata": {},
   "outputs": [],
   "source": [
    "#Final_data.isnull().sum()"
   ]
  },
  {
   "cell_type": "markdown",
   "id": "78119390",
   "metadata": {},
   "source": [
    "# 2. What Sectors Receives the Most Funding"
   ]
  },
  {
   "cell_type": "code",
   "execution_count": 45,
   "id": "6eb20f56",
   "metadata": {
    "scrolled": true
   },
   "outputs": [],
   "source": [
    "#Final_data.groupby('Sector')['Amount($)'].sum().sort_values(ascending=False).head(5).plot(kind='bar',xlabel='Sector',ylabel='Amount invested',title:'Top 5 Sectors by Funding')"
   ]
  },
  {
   "cell_type": "code",
   "execution_count": 140,
   "id": "631e8e64",
   "metadata": {},
   "outputs": [
    {
     "data": {
      "image/png": "[encoded data removed]",
      "text/plain": [
       "<Figure size 720x576 with 2 Axes>"
      ]
     },
     "metadata": {
      "needs_background": "light"
     },
     "output_type": "display_data"
    }
   ],
   "source": [
    "fig, axes = plt.subplots(nrows=2, ncols=1, figsize=(10, 8))\n",
    "fig.tight_layout(pad=5.0)\n",
    "\n",
    "Sector_Count=pd.DataFrame(Real_data['Sector'].value_counts().sort_values(ascending=False).head(5))\n",
    "Sector_Count.rename(columns={'Sector':'Number of startup by Sectors'}, inplace=True)\n",
    "Sector_Total=pd.DataFrame(Real_data.groupby(['Sector'])['Amount($)'].sum().sort_values(ascending=False).head(5))\n",
    "\n",
    "sns.barplot(x=Sector_Count.index, y=Sector_Count['Number of startup by Sectors'], data=Sector_Count, ax=axes[0])\n",
    "sns.barplot(x=Sector_Total.index, y=Sector_Total['Amount($)'], data=Sector_Total, ax=axes[1])#.set_xticklabels(rotation=90, labels=funding_total_city.index)\n",
    "\n",
    "plt.show()"
   ]
  },
  {
   "cell_type": "markdown",
   "id": "e384f380",
   "metadata": {},
   "source": [
    "from both plots shown, the sectors that receives more funding are Fintechs, Edtechs,Tech,E-Commerce. Most of the startups venture into these sectors and receives more funding than other sectors. "
   ]
  },
  {
   "cell_type": "code",
   "execution_count": null,
   "id": "95a74f57",
   "metadata": {},
   "outputs": [],
   "source": []
  },
  {
   "cell_type": "markdown",
   "id": "eb0f2cfc",
   "metadata": {},
   "source": [
    "# 2. Does location affect funding\n"
   ]
  },
  {
   "cell_type": "code",
   "execution_count": 141,
   "id": "f5f1f5a1",
   "metadata": {
    "scrolled": true
   },
   "outputs": [
    {
     "data": {
      "image/png": "[encoded data removed]",
      "text/plain": [
       "<Figure size 720x576 with 2 Axes>"
      ]
     },
     "metadata": {
      "needs_background": "light"
     },
     "output_type": "display_data"
    }
   ],
   "source": [
    "fig, axes = plt.subplots(nrows=2, ncols=1, figsize=(10, 8))\n",
    "fig.tight_layout(pad=5.0)\n",
    "\n",
    "Location_Count=pd.DataFrame(Real_data['HeadQuarter'].value_counts().sort_values(ascending=False).head(8))\n",
    "Location_Count.rename(columns={'HeadQuarter':'No of startup in each city'}, inplace=True)\n",
    "Location_Total=pd.DataFrame(Real_data.groupby(['HeadQuarter'])['Amount($)'].sum().sort_values(ascending=False).head(5))\n",
    "\n",
    "sns.barplot(x=Location_Count.index, y=Location_Count['No of startup in each city'], data=Location_Count, ax=axes[0])\n",
    "sns.barplot(x=Location_Total.index, y=Location_Total['Amount($)'], data=Location_Total, ax=axes[1])#.set_xticklabels(rotation=90, labels=funding_total_city.index)\n",
    "\n",
    "plt.show()"
   ]
  },
  {
   "cell_type": "markdown",
   "id": "e0111af5",
   "metadata": {},
   "source": [
    "Bangalore has the most start-up and funding, it is why it is regarded as the silicon valley of india. Most of the start-ups resides in first 4 location as seen in the bar chart shown and also have more funding."
   ]
  },
  {
   "cell_type": "markdown",
   "id": "1bd1ee22",
   "metadata": {},
   "source": [
    "# 3.  Most Important Investors  "
   ]
  },
  {
   "cell_type": "code",
   "execution_count": 143,
   "id": "c2f35a72",
   "metadata": {},
   "outputs": [
    {
     "data": {
      "text/plain": [
       "<AxesSubplot:title={'center':'MOST IMPORTANT INVESTORS'}>"
      ]
     },
     "execution_count": 143,
     "metadata": {},
     "output_type": "execute_result"
    },
    {
     "data": {
      "image/png": "[encoded data removed]",
      "text/plain": [
       "<Figure size 576x432 with 1 Axes>"
      ]
     },
     "metadata": {
      "needs_background": "light"
     },
     "output_type": "display_data"
    }
   ],
   "source": [
    "Real_data['Investor'].value_counts().head(10).sort_values(ascending=False).plot(kind='barh',title='MOST IMPORTANT INVESTORS',figsize=(8,6))"
   ]
  },
  {
   "cell_type": "markdown",
   "id": "d9a70bef",
   "metadata": {},
   "source": [
    "Inflection Point Ventures and Sequoia Capital India are the two most important investors as they have funded more start-ups with their investments."
   ]
  },
  {
   "cell_type": "markdown",
   "id": "648467e1",
   "metadata": {},
   "source": [
    "  "
   ]
  },
  {
   "cell_type": "markdown",
   "id": "58aa8624",
   "metadata": {},
   "source": [
    "# 4. Stage of Investment with highest Funding"
   ]
  },
  {
   "cell_type": "code",
   "execution_count": 122,
   "id": "5693aa01",
   "metadata": {},
   "outputs": [
    {
     "data": {
      "text/plain": [
       "Stage\n",
       "Series C          4.860558e+09\n",
       "Series B          3.730934e+09\n",
       "Series D          3.473022e+09\n",
       "Series E          3.410741e+09\n",
       "Series A          2.649194e+09\n",
       "Series H          2.312500e+09\n",
       "Series F          1.703200e+09\n",
       "Private Equity    1.634431e+09\n",
       "Seed              9.465429e+08\n",
       "Debt Financing    7.123980e+08\n",
       "Name: Amount($), dtype: float64"
      ]
     },
     "execution_count": 122,
     "metadata": {},
     "output_type": "execute_result"
    }
   ],
   "source": [
    "#What stage of investment has the highest funding\n",
    "Real_data.groupby(['Stage'])['Amount($)'].sum().sort_values(ascending=False).head(10)"
   ]
  },
  {
   "cell_type": "code",
   "execution_count": 147,
   "id": "c673b110",
   "metadata": {
    "scrolled": true
   },
   "outputs": [
    {
     "name": "stderr",
     "output_type": "stream",
     "text": [
      "C:\\Users\\emman\\anaconda3\\lib\\site-packages\\seaborn\\_decorators.py:36: FutureWarning: Pass the following variables as keyword args: x, y. From version 0.12, the only valid positional argument will be `data`, and passing other arguments without an explicit keyword will result in an error or misinterpretation.\n",
      "  warnings.warn(\n"
     ]
    },
    {
     "data": {
      "image/png": "[encoded data removed]",
      "text/plain": [
       "<Figure size 576x432 with 1 Axes>"
      ]
     },
     "metadata": {
      "needs_background": "light"
     },
     "output_type": "display_data"
    }
   ],
   "source": [
    "#StageAmount=pd.DataFrame(Final_data.groupby(['Stage'])['Amount($)'].sum().sort_values(ascending=False).head(10))\n",
    "invest_amount=list(Real_data.groupby(Real_data['Stage']).sum()['Amount($)'])[:10]\n",
    "typeof_invest = Real_data['Stage'].value_counts()[:10].index\n",
    "sns.barplot(typeof_invest,invest_amount).set_xticklabels(rotation=90, labels=typeof_invest)\n",
    "plt.xlabel('Stage of Investment')\n",
    "plt.ylabel('Investment Amount in Billions')\n",
    "plt.title('Stage of investment vs Amount invested')\n",
    "matplotlib.rcParams['figure.figsize'] = (10,8)"
   ]
  },
  {
   "cell_type": "code",
   "execution_count": 150,
   "id": "14063e34",
   "metadata": {
    "scrolled": true
   },
   "outputs": [
    {
     "data": {
      "text/plain": [
       "<AxesSubplot:title={'center':'STAGE OF INVESTMENT FOR START-UPS'}>"
      ]
     },
     "execution_count": 150,
     "metadata": {},
     "output_type": "execute_result"
    },
    {
     "data": {
      "image/png": "[encoded data removed]",
      "text/plain": [
       "<Figure size 576x288 with 1 Axes>"
      ]
     },
     "metadata": {
      "needs_background": "light"
     },
     "output_type": "display_data"
    }
   ],
   "source": [
    "#Most popular stage of investment for start-ups in the indian eco-system\n",
    "Real_data['Stage'].value_counts().head(10).sort_values(ascending=False).plot(kind='barh',title='STAGE OF INVESTMENT FOR START-UPS',figsize=(8,4))"
   ]
  },
  {
   "cell_type": "markdown",
   "id": "82d10e8d",
   "metadata": {},
   "source": [
    "The seed stage of start-up gets more funding from investors followed by the Series A. This shows that most investors in Indian Start-up ecosystem prefers to invest at an early stage. However, Series C has received the highest total amount of funding in the india from 2018 to 2021"
   ]
  },
  {
   "cell_type": "code",
   "execution_count": 127,
   "id": "e94975e4",
   "metadata": {},
   "outputs": [],
   "source": [
    "#Final_data.to_csv(\"C:\\\\Users\\\\emman\\\\Downloads\\\\Final_data.csv\", index=False)\n",
    "#Real_data.to_csv(\"C:\\\\Users\\\\emman\\\\Downloads\\\\Real_data.csv\", index=False)\n",
    "#all_data.to_csv(\"C:\\\\Users\\\\emman\\\\Downloads\\\\all_data.csv\", index=False)"
   ]
  },
  {
   "cell_type": "markdown",
   "id": "66c532cb",
   "metadata": {},
   "source": [
    "# SUMMARY AND CONCLUSION"
   ]
  },
  {
   "cell_type": "markdown",
   "id": "c7966416",
   "metadata": {},
   "source": [
    "Following our analysis of the datasets we can draw some summary and conclusion about the start-ups in indian between 2018 to 2021:\n",
    "\n",
    "1. Most of the start-ups in India have technology revolving around them, with most of the start-ups being FINTECHS\n",
    "2. Location and funding are positively correlated in India. If we reside our start-up in Bangalore we have a high tendency of getting funding easily.\n",
    "3. The more the start-ups, the more funding we should expect in a given year\n",
    "4. Investors prefer to invest in the seed stage "
   ]
  },
  {
   "cell_type": "code",
   "execution_count": null,
   "id": "d2cc92be",
   "metadata": {},
   "outputs": [],
   "source": []
  },
  {
   "cell_type": "code",
   "execution_count": null,
   "id": "4c299285",
   "metadata": {},
   "outputs": [],
   "source": []
  }
 ],
 "metadata": {
  "kernelspec": {
   "display_name": "Python 3 (ipykernel)",
   "language": "python",
   "name": "python3"
  },
  "language_info": {
   "codemirror_mode": {
    "name": "ipython",
    "version": 3
   },
   "file_extension": ".py",
   "mimetype": "text/x-python",
   "name": "python",
   "nbconvert_exporter": "python",
   "pygments_lexer": "ipython3",
   "version": "3.9.12"
  }
 },
 "nbformat": 4,
 "nbformat_minor": 5
}
